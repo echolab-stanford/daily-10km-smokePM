{
 "cells": [
  {
   "cell_type": "code",
   "execution_count": null,
   "metadata": {},
   "outputs": [],
   "source": [
    "# Get Height of "
   ]
  },
  {
   "cell_type": "code",
   "execution_count": null,
   "metadata": {},
   "outputs": [],
   "source": [
    "# To import pysplit, you need to have installed geos, proj, cartopy, matplotlib, numpy, geopandas, and cartopy\n",
    "# https://github.com/mscross/pysplit"
   ]
  },
  {
   "cell_type": "code",
   "execution_count": 3,
   "metadata": {
    "ExecuteTime": {
     "end_time": "2021-03-08T19:47:40.452388Z",
     "start_time": "2021-03-08T19:47:40.449811Z"
    }
   },
   "outputs": [],
   "source": [
    "%matplotlib inline"
   ]
  },
  {
   "cell_type": "code",
   "execution_count": 20,
   "metadata": {
    "ExecuteTime": {
     "end_time": "2021-03-09T15:49:23.873595Z",
     "start_time": "2021-03-09T15:49:23.511096Z"
    }
   },
   "outputs": [
    {
     "ename": "ImportError",
     "evalue": "cannot import name 'Axes3d' from 'mpl_toolkits.mplot3d' (/Users/jessssli/opt/anaconda3/lib/python3.8/site-packages/mpl_toolkits/mplot3d/__init__.py)",
     "output_type": "error",
     "traceback": [
      "\u001b[0;31m---------------------------------------------------------------------------\u001b[0m",
      "\u001b[0;31mImportError\u001b[0m                               Traceback (most recent call last)",
      "\u001b[0;32m<ipython-input-20-d078c01290b4>\u001b[0m in \u001b[0;36m<module>\u001b[0;34m\u001b[0m\n\u001b[1;32m      5\u001b[0m \u001b[0;31m# from scipy.optimize import minimize\u001b[0m\u001b[0;34m\u001b[0m\u001b[0;34m\u001b[0m\u001b[0;34m\u001b[0m\u001b[0m\n\u001b[1;32m      6\u001b[0m \u001b[0;31m# from matplotlib import pyplot as plt\u001b[0m\u001b[0;34m\u001b[0m\u001b[0;34m\u001b[0m\u001b[0;34m\u001b[0m\u001b[0m\n\u001b[0;32m----> 7\u001b[0;31m \u001b[0;32mfrom\u001b[0m \u001b[0mmpl_toolkits\u001b[0m\u001b[0;34m.\u001b[0m\u001b[0mmplot3d\u001b[0m \u001b[0;32mimport\u001b[0m \u001b[0mAxes3d\u001b[0m\u001b[0;34m\u001b[0m\u001b[0;34m\u001b[0m\u001b[0m\n\u001b[0m\u001b[1;32m      8\u001b[0m \u001b[0;31m# import sympy\u001b[0m\u001b[0;34m\u001b[0m\u001b[0;34m\u001b[0m\u001b[0;34m\u001b[0m\u001b[0m\n\u001b[1;32m      9\u001b[0m \u001b[0;31m# import seaborn as sns\u001b[0m\u001b[0;34m\u001b[0m\u001b[0;34m\u001b[0m\u001b[0;34m\u001b[0m\u001b[0m\n",
      "\u001b[0;31mImportError\u001b[0m: cannot import name 'Axes3d' from 'mpl_toolkits.mplot3d' (/Users/jessssli/opt/anaconda3/lib/python3.8/site-packages/mpl_toolkits/mplot3d/__init__.py)"
     ]
    }
   ],
   "source": [
    "# import csv\n",
    "# import math\n",
    "# import numpy as np\n",
    "# from scipy import stats\n",
    "# from scipy.optimize import minimize\n",
    "# from matplotlib import pyplot as plt\n",
    "# # from mpl_toolkits.mplot3d import Axes3d\n",
    "# import sympy\n",
    "# import seaborn as sns"
   ]
  },
  {
   "cell_type": "code",
   "execution_count": 1,
   "metadata": {
    "ExecuteTime": {
     "end_time": "2021-03-09T18:22:16.919684Z",
     "start_time": "2021-03-09T18:22:16.543307Z"
    }
   },
   "outputs": [
    {
     "name": "stdout",
     "output_type": "stream",
     "text": [
      "/Users/jessssli/opt/anaconda3/lib/python3.8/site-packages/matplotlib/__init__.py\n"
     ]
    }
   ],
   "source": [
    "import matplotlib \n",
    "print(matplotlib.__file__)"
   ]
  },
  {
   "cell_type": "code",
   "execution_count": 2,
   "metadata": {
    "ExecuteTime": {
     "end_time": "2021-03-09T18:22:43.607150Z",
     "start_time": "2021-03-09T18:22:42.412281Z"
    }
   },
   "outputs": [
    {
     "name": "stdout",
     "output_type": "stream",
     "text": [
      "Reset css and font defaults in:\r\n",
      "/Users/jessssli/.jupyter/custom &\r\n",
      "/Users/jessssli/Library/Jupyter/nbextensions\r\n"
     ]
    }
   ],
   "source": [
    "!jt -r"
   ]
  },
  {
   "cell_type": "code",
   "execution_count": null,
   "metadata": {},
   "outputs": [],
   "source": [
    "pysplit.trajectory_generator()"
   ]
  },
  {
   "cell_type": "code",
   "execution_count": null,
   "metadata": {},
   "outputs": [],
   "source": []
  },
  {
   "cell_type": "code",
   "execution_count": null,
   "metadata": {},
   "outputs": [],
   "source": []
  },
  {
   "cell_type": "code",
   "execution_count": null,
   "metadata": {},
   "outputs": [],
   "source": [
    "# BASIC EXAMPLE USING SINGLE-CORE - WORKS"
   ]
  },
  {
   "cell_type": "code",
   "execution_count": null,
   "metadata": {},
   "outputs": [],
   "source": [
    "import os"
   ]
  },
  {
   "cell_type": "code",
   "execution_count": 39,
   "metadata": {
    "ExecuteTime": {
     "end_time": "2021-04-23T18:21:41.851146Z",
     "start_time": "2021-04-23T18:21:41.848836Z"
    }
   },
   "outputs": [],
   "source": [
    "import pysplit"
   ]
  },
  {
   "cell_type": "code",
   "execution_count": 20,
   "metadata": {
    "ExecuteTime": {
     "end_time": "2021-04-23T19:27:07.532249Z",
     "start_time": "2021-04-23T19:27:07.529780Z"
    }
   },
   "outputs": [],
   "source": [
    "working_dir = r'/Users/jessssli/Documents/04 Sub-Annual Model of Wildfire PM/HYSPLIT Speed Test/working/working_1/' #r'/Users/jessssli/hysplit/working/'\n",
    "storage_dir = r'/Users/jessssli/Documents/04 Sub-Annual Model of Wildfire PM/HYSPLIT Speed Test/trajectories/colgate3/'\n",
    "meteo_dir = r'/Users/jessssli/Documents/04 Sub-Annual Model of Wildfire PM/HYSPLIT Speed Test/met/gdas1/'\n",
    "hysplit = r'/Users/jessssli/hysplit/exec/hyts_std'"
   ]
  },
  {
   "cell_type": "code",
   "execution_count": 21,
   "metadata": {
    "ExecuteTime": {
     "end_time": "2021-04-23T19:27:08.171123Z",
     "start_time": "2021-04-23T19:27:08.168908Z"
    }
   },
   "outputs": [],
   "source": [
    "basename = 'colgate'"
   ]
  },
  {
   "cell_type": "code",
   "execution_count": 22,
   "metadata": {
    "ExecuteTime": {
     "end_time": "2021-04-23T19:27:09.050003Z",
     "start_time": "2021-04-23T19:27:09.047029Z"
    }
   },
   "outputs": [],
   "source": [
    "years = [2007, 2011]\n",
    "months = [1, 8]\n",
    "hours = [11, 17, 23]\n",
    "altitudes = [500, 1000, 1500]\n",
    "location = (42.82, -75.54)\n",
    "runtime = -120"
   ]
  },
  {
   "cell_type": "code",
   "execution_count": 24,
   "metadata": {
    "ExecuteTime": {
     "end_time": "2021-04-23T19:34:27.002598Z",
     "start_time": "2021-04-23T19:28:33.688454Z"
    }
   },
   "outputs": [],
   "source": [
    "pysplit.generate_bulktraj(basename, working_dir, storage_dir, meteo_dir, \n",
    "                          years, months, hours, altitudes, location, runtime, \n",
    "                          monthslice = slice(0, 32, 2), get_reverse = True, get_clipped = True,\n",
    "                          hysplit = hysplit)\n",
    "os.system('say done!')"
   ]
  },
  {
   "cell_type": "code",
   "execution_count": null,
   "metadata": {},
   "outputs": [],
   "source": []
  },
  {
   "cell_type": "code",
   "execution_count": null,
   "metadata": {},
   "outputs": [],
   "source": []
  },
  {
   "cell_type": "code",
   "execution_count": null,
   "metadata": {},
   "outputs": [],
   "source": []
  },
  {
   "cell_type": "code",
   "execution_count": null,
   "metadata": {},
   "outputs": [],
   "source": [
    "# ANALYSIS EXAMPLE - HALT EXPLORATION"
   ]
  },
  {
   "cell_type": "code",
   "execution_count": 12,
   "metadata": {
    "ExecuteTime": {
     "end_time": "2021-04-23T16:52:20.117962Z",
     "start_time": "2021-04-23T16:52:20.115655Z"
    }
   },
   "outputs": [],
   "source": [
    "from __future__ import print_function"
   ]
  },
  {
   "cell_type": "code",
   "execution_count": 18,
   "metadata": {
    "ExecuteTime": {
     "end_time": "2021-04-23T16:59:46.185598Z",
     "start_time": "2021-04-23T16:59:46.173372Z"
    }
   },
   "outputs": [],
   "source": [
    "trajgroup = pysplit.make_trajectorygroup(r'/Users/jessssli/Documents/04 Sub-Annual Model of Wildfire PM/HYSPLIT Speed Test/trajectories/colgate/colgateaug1500summer2011083123')\n",
    "\n",
    "\n",
    "\n",
    "\n"
   ]
  },
  {
   "cell_type": "code",
   "execution_count": 20,
   "metadata": {
    "ExecuteTime": {
     "end_time": "2021-04-23T17:00:36.844691Z",
     "start_time": "2021-04-23T17:00:36.840009Z"
    }
   },
   "outputs": [],
   "source": [
    "for traj in trajgroup:\n",
    "    a = traj.calculate_distance()"
   ]
  },
  {
   "cell_type": "code",
   "execution_count": 24,
   "metadata": {
    "ExecuteTime": {
     "end_time": "2021-04-23T17:01:13.648014Z",
     "start_time": "2021-04-23T17:01:13.645531Z"
    }
   },
   "outputs": [],
   "source": [
    "mytraj = trajgroup[0]"
   ]
  },
  {
   "cell_type": "code",
   "execution_count": 26,
   "metadata": {
    "ExecuteTime": {
     "end_time": "2021-04-23T17:01:36.018796Z",
     "start_time": "2021-04-23T17:01:35.985996Z"
    }
   },
   "outputs": [
    {
     "data": {
      "text/html": [
       "<div>\n",
       "<style scoped>\n",
       "    .dataframe tbody tr th:only-of-type {\n",
       "        vertical-align: middle;\n",
       "    }\n",
       "\n",
       "    .dataframe tbody tr th {\n",
       "        vertical-align: top;\n",
       "    }\n",
       "\n",
       "    .dataframe thead th {\n",
       "        text-align: right;\n",
       "    }\n",
       "</style>\n",
       "<table border=\"1\" class=\"dataframe\">\n",
       "  <thead>\n",
       "    <tr style=\"text-align: right;\">\n",
       "      <th></th>\n",
       "      <th>Timestep</th>\n",
       "      <th>Pressure</th>\n",
       "      <th>geometry</th>\n",
       "      <th>DateTime</th>\n",
       "      <th>Temperature_C</th>\n",
       "      <th>Temperature</th>\n",
       "      <th>Mixing_Depth</th>\n",
       "      <th>Distance_ptp</th>\n",
       "      <th>Cumulative_Dist</th>\n",
       "      <th>Dist_from_origin</th>\n",
       "    </tr>\n",
       "    <tr>\n",
       "      <th>Timestep</th>\n",
       "      <th></th>\n",
       "      <th></th>\n",
       "      <th></th>\n",
       "      <th></th>\n",
       "      <th></th>\n",
       "      <th></th>\n",
       "      <th></th>\n",
       "      <th></th>\n",
       "      <th></th>\n",
       "      <th></th>\n",
       "    </tr>\n",
       "  </thead>\n",
       "  <tbody>\n",
       "    <tr>\n",
       "      <th>0.0</th>\n",
       "      <td>0.0</td>\n",
       "      <td>822.6</td>\n",
       "      <td>POINT Z (-75.54000 42.82000 1500.00000)</td>\n",
       "      <td>2011-08-31 23:00:00</td>\n",
       "      <td>None</td>\n",
       "      <td>None</td>\n",
       "      <td>None</td>\n",
       "      <td>0.000000</td>\n",
       "      <td>0.000000e+00</td>\n",
       "      <td>0.000000e+00</td>\n",
       "    </tr>\n",
       "    <tr>\n",
       "      <th>-1.0</th>\n",
       "      <td>-1.0</td>\n",
       "      <td>816.5</td>\n",
       "      <td>POINT Z (-75.51600 42.70300 1571.50000)</td>\n",
       "      <td>2011-08-31 22:00:00</td>\n",
       "      <td>None</td>\n",
       "      <td>None</td>\n",
       "      <td>None</td>\n",
       "      <td>13156.517079</td>\n",
       "      <td>1.315652e+04</td>\n",
       "      <td>1.315652e+04</td>\n",
       "    </tr>\n",
       "    <tr>\n",
       "      <th>-2.0</th>\n",
       "      <td>-2.0</td>\n",
       "      <td>802.4</td>\n",
       "      <td>POINT Z (-75.50400 42.61300 1702.60000)</td>\n",
       "      <td>2011-08-31 21:00:00</td>\n",
       "      <td>None</td>\n",
       "      <td>None</td>\n",
       "      <td>None</td>\n",
       "      <td>10055.538324</td>\n",
       "      <td>2.321206e+04</td>\n",
       "      <td>2.320449e+04</td>\n",
       "    </tr>\n",
       "    <tr>\n",
       "      <th>-3.0</th>\n",
       "      <td>-3.0</td>\n",
       "      <td>783.7</td>\n",
       "      <td>POINT Z (-75.51400 42.54200 1838.40000)</td>\n",
       "      <td>2011-08-31 20:00:00</td>\n",
       "      <td>None</td>\n",
       "      <td>None</td>\n",
       "      <td>None</td>\n",
       "      <td>7937.186239</td>\n",
       "      <td>3.114924e+04</td>\n",
       "      <td>3.098517e+04</td>\n",
       "    </tr>\n",
       "    <tr>\n",
       "      <th>-4.0</th>\n",
       "      <td>-4.0</td>\n",
       "      <td>775.6</td>\n",
       "      <td>POINT Z (-75.52600 42.49100 1921.80000)</td>\n",
       "      <td>2011-08-31 19:00:00</td>\n",
       "      <td>None</td>\n",
       "      <td>None</td>\n",
       "      <td>None</td>\n",
       "      <td>5755.595789</td>\n",
       "      <td>3.690484e+04</td>\n",
       "      <td>3.660104e+04</td>\n",
       "    </tr>\n",
       "    <tr>\n",
       "      <th>...</th>\n",
       "      <td>...</td>\n",
       "      <td>...</td>\n",
       "      <td>...</td>\n",
       "      <td>...</td>\n",
       "      <td>...</td>\n",
       "      <td>...</td>\n",
       "      <td>...</td>\n",
       "      <td>...</td>\n",
       "      <td>...</td>\n",
       "      <td>...</td>\n",
       "    </tr>\n",
       "    <tr>\n",
       "      <th>-116.0</th>\n",
       "      <td>-116.0</td>\n",
       "      <td>598.9</td>\n",
       "      <td>POINT Z (-145.33700 53.11200 4184.90000)</td>\n",
       "      <td>2011-08-27 03:00:00</td>\n",
       "      <td>None</td>\n",
       "      <td>None</td>\n",
       "      <td>None</td>\n",
       "      <td>57476.614581</td>\n",
       "      <td>5.259524e+06</td>\n",
       "      <td>5.105922e+06</td>\n",
       "    </tr>\n",
       "    <tr>\n",
       "      <th>-117.0</th>\n",
       "      <td>-117.0</td>\n",
       "      <td>600.2</td>\n",
       "      <td>POINT Z (-146.22600 52.97100 4166.30000)</td>\n",
       "      <td>2011-08-27 02:00:00</td>\n",
       "      <td>None</td>\n",
       "      <td>None</td>\n",
       "      <td>None</td>\n",
       "      <td>61466.337531</td>\n",
       "      <td>5.320991e+06</td>\n",
       "      <td>5.167344e+06</td>\n",
       "    </tr>\n",
       "    <tr>\n",
       "      <th>-118.0</th>\n",
       "      <td>-118.0</td>\n",
       "      <td>601.5</td>\n",
       "      <td>POINT Z (-147.08500 52.81700 4142.60000)</td>\n",
       "      <td>2011-08-27 01:00:00</td>\n",
       "      <td>None</td>\n",
       "      <td>None</td>\n",
       "      <td>None</td>\n",
       "      <td>60114.350336</td>\n",
       "      <td>5.381105e+06</td>\n",
       "      <td>5.227447e+06</td>\n",
       "    </tr>\n",
       "    <tr>\n",
       "      <th>-119.0</th>\n",
       "      <td>-119.0</td>\n",
       "      <td>605.5</td>\n",
       "      <td>POINT Z (-147.93700 52.67300 4094.00000)</td>\n",
       "      <td>2011-08-27 00:00:00</td>\n",
       "      <td>None</td>\n",
       "      <td>None</td>\n",
       "      <td>None</td>\n",
       "      <td>59543.857412</td>\n",
       "      <td>5.440649e+06</td>\n",
       "      <td>5.286925e+06</td>\n",
       "    </tr>\n",
       "    <tr>\n",
       "      <th>-120.0</th>\n",
       "      <td>-120.0</td>\n",
       "      <td>610.2</td>\n",
       "      <td>POINT Z (-148.76600 52.51600 4028.80000)</td>\n",
       "      <td>2011-08-26 23:00:00</td>\n",
       "      <td>None</td>\n",
       "      <td>None</td>\n",
       "      <td>None</td>\n",
       "      <td>58653.170829</td>\n",
       "      <td>5.499302e+06</td>\n",
       "      <td>5.345554e+06</td>\n",
       "    </tr>\n",
       "  </tbody>\n",
       "</table>\n",
       "<p>121 rows × 10 columns</p>\n",
       "</div>"
      ],
      "text/plain": [
       "          Timestep  Pressure                                  geometry  \\\n",
       "Timestep                                                                 \n",
       " 0.0           0.0     822.6   POINT Z (-75.54000 42.82000 1500.00000)   \n",
       "-1.0          -1.0     816.5   POINT Z (-75.51600 42.70300 1571.50000)   \n",
       "-2.0          -2.0     802.4   POINT Z (-75.50400 42.61300 1702.60000)   \n",
       "-3.0          -3.0     783.7   POINT Z (-75.51400 42.54200 1838.40000)   \n",
       "-4.0          -4.0     775.6   POINT Z (-75.52600 42.49100 1921.80000)   \n",
       "...            ...       ...                                       ...   \n",
       "-116.0      -116.0     598.9  POINT Z (-145.33700 53.11200 4184.90000)   \n",
       "-117.0      -117.0     600.2  POINT Z (-146.22600 52.97100 4166.30000)   \n",
       "-118.0      -118.0     601.5  POINT Z (-147.08500 52.81700 4142.60000)   \n",
       "-119.0      -119.0     605.5  POINT Z (-147.93700 52.67300 4094.00000)   \n",
       "-120.0      -120.0     610.2  POINT Z (-148.76600 52.51600 4028.80000)   \n",
       "\n",
       "                    DateTime Temperature_C Temperature Mixing_Depth  \\\n",
       "Timestep                                                              \n",
       " 0.0     2011-08-31 23:00:00          None        None         None   \n",
       "-1.0     2011-08-31 22:00:00          None        None         None   \n",
       "-2.0     2011-08-31 21:00:00          None        None         None   \n",
       "-3.0     2011-08-31 20:00:00          None        None         None   \n",
       "-4.0     2011-08-31 19:00:00          None        None         None   \n",
       "...                      ...           ...         ...          ...   \n",
       "-116.0   2011-08-27 03:00:00          None        None         None   \n",
       "-117.0   2011-08-27 02:00:00          None        None         None   \n",
       "-118.0   2011-08-27 01:00:00          None        None         None   \n",
       "-119.0   2011-08-27 00:00:00          None        None         None   \n",
       "-120.0   2011-08-26 23:00:00          None        None         None   \n",
       "\n",
       "          Distance_ptp  Cumulative_Dist  Dist_from_origin  \n",
       "Timestep                                                   \n",
       " 0.0          0.000000     0.000000e+00      0.000000e+00  \n",
       "-1.0      13156.517079     1.315652e+04      1.315652e+04  \n",
       "-2.0      10055.538324     2.321206e+04      2.320449e+04  \n",
       "-3.0       7937.186239     3.114924e+04      3.098517e+04  \n",
       "-4.0       5755.595789     3.690484e+04      3.660104e+04  \n",
       "...                ...              ...               ...  \n",
       "-116.0    57476.614581     5.259524e+06      5.105922e+06  \n",
       "-117.0    61466.337531     5.320991e+06      5.167344e+06  \n",
       "-118.0    60114.350336     5.381105e+06      5.227447e+06  \n",
       "-119.0    59543.857412     5.440649e+06      5.286925e+06  \n",
       "-120.0    58653.170829     5.499302e+06      5.345554e+06  \n",
       "\n",
       "[121 rows x 10 columns]"
      ]
     },
     "execution_count": 26,
     "metadata": {},
     "output_type": "execute_result"
    }
   ],
   "source": [
    "mytraj.data.to_file()"
   ]
  },
  {
   "cell_type": "code",
   "execution_count": null,
   "metadata": {},
   "outputs": [],
   "source": []
  },
  {
   "cell_type": "code",
   "execution_count": null,
   "metadata": {},
   "outputs": [],
   "source": []
  },
  {
   "cell_type": "code",
   "execution_count": null,
   "metadata": {},
   "outputs": [],
   "source": [
    "# HOW TO COUNT CORES"
   ]
  },
  {
   "cell_type": "code",
   "execution_count": 27,
   "metadata": {
    "ExecuteTime": {
     "end_time": "2021-04-23T17:29:07.285460Z",
     "start_time": "2021-04-23T17:29:07.283163Z"
    }
   },
   "outputs": [],
   "source": [
    "import multiprocessing as mp"
   ]
  },
  {
   "cell_type": "code",
   "execution_count": 28,
   "metadata": {
    "ExecuteTime": {
     "end_time": "2021-04-23T17:29:16.231881Z",
     "start_time": "2021-04-23T17:29:16.228873Z"
    }
   },
   "outputs": [
    {
     "name": "stdout",
     "output_type": "stream",
     "text": [
      "Number of processors:  12\n"
     ]
    }
   ],
   "source": [
    "print(\"Number of processors: \", mp.cpu_count())"
   ]
  },
  {
   "cell_type": "code",
   "execution_count": null,
   "metadata": {},
   "outputs": [],
   "source": []
  },
  {
   "cell_type": "code",
   "execution_count": null,
   "metadata": {},
   "outputs": [],
   "source": []
  },
  {
   "cell_type": "code",
   "execution_count": null,
   "metadata": {},
   "outputs": [],
   "source": []
  },
  {
   "cell_type": "code",
   "execution_count": null,
   "metadata": {},
   "outputs": [],
   "source": []
  },
  {
   "cell_type": "code",
   "execution_count": null,
   "metadata": {},
   "outputs": [],
   "source": [
    "# TOY EXAMPLE OF PARALLEL"
   ]
  },
  {
   "cell_type": "code",
   "execution_count": 29,
   "metadata": {
    "ExecuteTime": {
     "end_time": "2021-04-23T18:12:10.510464Z",
     "start_time": "2021-04-23T18:12:10.394648Z"
    }
   },
   "outputs": [],
   "source": [
    "from joblib import Parallel, delayed\n",
    "import multiprocessing"
   ]
  },
  {
   "cell_type": "code",
   "execution_count": 36,
   "metadata": {
    "ExecuteTime": {
     "end_time": "2021-04-23T18:13:23.206631Z",
     "start_time": "2021-04-23T18:13:23.204267Z"
    }
   },
   "outputs": [],
   "source": [
    "# what are your inputs, and what operation do you want to \n",
    "# perform on each input. For example...\n",
    "inputs = range(100) \n"
   ]
  },
  {
   "cell_type": "code",
   "execution_count": 32,
   "metadata": {
    "ExecuteTime": {
     "end_time": "2021-04-23T18:12:39.429708Z",
     "start_time": "2021-04-23T18:12:39.426939Z"
    }
   },
   "outputs": [],
   "source": [
    "def processInput(i):\n",
    "    return i * i"
   ]
  },
  {
   "cell_type": "code",
   "execution_count": 33,
   "metadata": {
    "ExecuteTime": {
     "end_time": "2021-04-23T18:12:39.896096Z",
     "start_time": "2021-04-23T18:12:39.893658Z"
    }
   },
   "outputs": [],
   "source": [
    "num_cores = multiprocessing.cpu_count()"
   ]
  },
  {
   "cell_type": "code",
   "execution_count": 37,
   "metadata": {
    "ExecuteTime": {
     "end_time": "2021-04-23T18:13:26.224976Z",
     "start_time": "2021-04-23T18:13:26.187985Z"
    }
   },
   "outputs": [],
   "source": [
    "results = Parallel(n_jobs=num_cores)(delayed(processInput)(i) for i in inputs)"
   ]
  },
  {
   "cell_type": "code",
   "execution_count": null,
   "metadata": {},
   "outputs": [],
   "source": []
  },
  {
   "cell_type": "code",
   "execution_count": null,
   "metadata": {},
   "outputs": [],
   "source": []
  },
  {
   "cell_type": "code",
   "execution_count": null,
   "metadata": {},
   "outputs": [],
   "source": [
    "# ROUGH CALCULATION OF COMPUTE TIME"
   ]
  },
  {
   "cell_type": "code",
   "execution_count": 43,
   "metadata": {
    "ExecuteTime": {
     "end_time": "2021-04-23T18:43:34.765595Z",
     "start_time": "2021-04-23T18:43:34.762251Z"
    }
   },
   "outputs": [
    {
     "data": {
      "text/plain": [
       "576"
      ]
     },
     "execution_count": 43,
     "metadata": {},
     "output_type": "execute_result"
    }
   ],
   "source": [
    "3*3*16*2*2\n",
    "# 3 xyz points * 3 release hours/day * every other day/month * 2 months * 2 years"
   ]
  },
  {
   "cell_type": "code",
   "execution_count": 44,
   "metadata": {
    "ExecuteTime": {
     "end_time": "2021-04-23T18:47:21.893445Z",
     "start_time": "2021-04-23T18:47:21.890279Z"
    }
   },
   "outputs": [
    {
     "data": {
      "text/plain": [
       "82944000"
      ]
     },
     "execution_count": 44,
     "metadata": {},
     "output_type": "execute_result"
    }
   ],
   "source": [
    "200*3*24*32*12*15\n",
    "# n xy points * m heights * 24 hours * 32 days * 12 months * 15 years"
   ]
  },
  {
   "cell_type": "code",
   "execution_count": 49,
   "metadata": {
    "ExecuteTime": {
     "end_time": "2021-04-23T18:49:26.425099Z",
     "start_time": "2021-04-23T18:49:26.420156Z"
    }
   },
   "outputs": [
    {
     "name": "stdout",
     "output_type": "stream",
     "text": [
      "566.6666666666666 days\n"
     ]
    }
   ],
   "source": [
    "print((200*3*24*32*12*15)/(3*3*16*2*2)*(40+5*60)/60/60/24, 'days')"
   ]
  },
  {
   "cell_type": "code",
   "execution_count": 53,
   "metadata": {
    "ExecuteTime": {
     "end_time": "2021-04-23T18:50:57.189614Z",
     "start_time": "2021-04-23T18:50:57.186490Z"
    }
   },
   "outputs": [
    {
     "name": "stdout",
     "output_type": "stream",
     "text": [
      "if 200 cores: 2.833333333333333 days\n"
     ]
    }
   ],
   "source": [
    "print('if 200 cores:', (200*3*24*32*12*15)/(3*3*16*2*2)*(40+5*60)/60/60/24/200, 'days')"
   ]
  },
  {
   "cell_type": "code",
   "execution_count": null,
   "metadata": {},
   "outputs": [],
   "source": []
  },
  {
   "cell_type": "code",
   "execution_count": null,
   "metadata": {},
   "outputs": [],
   "source": []
  },
  {
   "cell_type": "code",
   "execution_count": null,
   "metadata": {},
   "outputs": [],
   "source": [
    "# COPIED FROM BASIC EXAMPLE ABOVE"
   ]
  },
  {
   "cell_type": "code",
   "execution_count": 6,
   "metadata": {
    "ExecuteTime": {
     "end_time": "2021-04-23T16:12:28.931631Z",
     "start_time": "2021-04-23T16:12:28.929301Z"
    }
   },
   "outputs": [],
   "source": [
    "working_dir = r'/Users/jessssli/hysplit/working/'\n",
    "storage_dir = r'/Users/jessssli/Documents/04 Sub-Annual Model of Wildfire PM/HYSPLIT Speed Test/trajectories/colgate/'\n",
    "meteo_dir = r'/Users/jessssli/Documents/04 Sub-Annual Model of Wildfire PM/HYSPLIT Speed Test/met/gdas1/'\n",
    "hysplit = r'/Users/jessssli/hysplit/exec/hyts_std'"
   ]
  },
  {
   "cell_type": "code",
   "execution_count": 7,
   "metadata": {
    "ExecuteTime": {
     "end_time": "2021-04-23T16:12:29.399621Z",
     "start_time": "2021-04-23T16:12:29.397452Z"
    }
   },
   "outputs": [],
   "source": [
    "basename = 'colgate'"
   ]
  },
  {
   "cell_type": "code",
   "execution_count": 8,
   "metadata": {
    "ExecuteTime": {
     "end_time": "2021-04-23T16:12:29.801397Z",
     "start_time": "2021-04-23T16:12:29.798452Z"
    }
   },
   "outputs": [],
   "source": [
    "years = [2007, 2011]\n",
    "months = [1, 8]\n",
    "hours = [11, 17, 23]\n",
    "altitudes = [500, 1000, 1500]\n",
    "location = (42.82, -75.54)\n",
    "runtime = -120"
   ]
  },
  {
   "cell_type": "code",
   "execution_count": 11,
   "metadata": {
    "ExecuteTime": {
     "end_time": "2021-04-23T16:22:58.234178Z",
     "start_time": "2021-04-23T16:17:20.175120Z"
    }
   },
   "outputs": [],
   "source": [
    "pysplit.generate_bulktraj(basename, working_dir, storage_dir, meteo_dir, \n",
    "                          years, months, hours, altitudes, location, runtime, \n",
    "                          monthslice = slice(0, 32, 2), get_reverse = True, get_clipped = True,\n",
    "                          hysplit = hysplit)"
   ]
  },
  {
   "cell_type": "code",
   "execution_count": null,
   "metadata": {},
   "outputs": [],
   "source": []
  },
  {
   "cell_type": "code",
   "execution_count": null,
   "metadata": {},
   "outputs": [],
   "source": []
  },
  {
   "cell_type": "code",
   "execution_count": null,
   "metadata": {},
   "outputs": [],
   "source": [
    "# ATTEMPT AT PARALLELIZING BASIC EXAMPLE ABOVE"
   ]
  },
  {
   "cell_type": "code",
   "execution_count": null,
   "metadata": {},
   "outputs": [],
   "source": [
    "# for each year\n",
    "# specify a unique working directory\n",
    "# specify the same storage and meteo directories, basename, months, hours, alts, locs, and runtimes for all years\n",
    "# and generate trajectories in bulk given the same params for all years and the different year and working_dir vals"
   ]
  },
  {
   "cell_type": "code",
   "execution_count": 1,
   "metadata": {
    "ExecuteTime": {
     "end_time": "2021-04-23T21:38:48.781366Z",
     "start_time": "2021-04-23T21:38:47.275658Z"
    }
   },
   "outputs": [],
   "source": [
    "import pysplit\n",
    "from joblib import Parallel, delayed\n",
    "import multiprocessing"
   ]
  },
  {
   "cell_type": "code",
   "execution_count": 12,
   "metadata": {
    "ExecuteTime": {
     "end_time": "2021-04-23T19:15:48.351344Z",
     "start_time": "2021-04-23T19:15:48.346465Z"
    }
   },
   "outputs": [],
   "source": [
    "def myfunc(years, \n",
    "#            working_dir = 0, \n",
    "           basename = 'colgate', \n",
    "           storage_dir = r'/Users/jessssli/Documents/04 Sub-Annual Model of Wildfire PM/HYSPLIT Speed Test/trajectories/colgate2/',\n",
    "           meteo_dir = r'/Users/jessssli/Documents/04 Sub-Annual Model of Wildfire PM/HYSPLIT Speed Test/met/gdas1/', \n",
    "           months = [1, 8], \n",
    "           hours = [11, 17, 23], \n",
    "           altitudes = [500, 1000, 1500], \n",
    "           location = (42.82, -75.54), \n",
    "           runtime = -120, \n",
    "           monthslice = slice(0, 32, 2), \n",
    "           get_reverse = True, \n",
    "           get_clipped = True, \n",
    "           hysplit = r'/Users/jessssli/hysplit/exec/hyts_std'):\n",
    "    working_dir = r'/Users/jessssli/Documents/04 Sub-Annual Model of Wildfire PM/HYSPLIT Speed Test/working/working_' + str(years)\n",
    "    pysplit.generate_bulktraj(basename = basename, \n",
    "                              hysplit_working = working_dir, \n",
    "                              output_dir = storage_dir, \n",
    "                              meteo_dir = meteo_dir, \n",
    "                              years = [years], \n",
    "                              months = months, \n",
    "                              hours = hours, \n",
    "                              altitudes = altitudes, \n",
    "                              coordinates = location, \n",
    "                              run = runtime, \n",
    "                              monthslice = monthslice, \n",
    "                              get_reverse = get_reverse, \n",
    "                              get_clipped = get_clipped,\n",
    "                              hysplit = hysplit)\n"
   ]
  },
  {
   "cell_type": "code",
   "execution_count": 42,
   "metadata": {
    "ExecuteTime": {
     "end_time": "2021-04-23T19:40:26.138947Z",
     "start_time": "2021-04-23T19:40:26.135077Z"
    }
   },
   "outputs": [],
   "source": [
    "def myfunc(years):\n",
    "    working_dir = r'/Users/jessssli/Documents/04 Sub-Annual Model of Wildfire PM/HYSPLIT Speed Test/working/working_' + str(years)\n",
    "    pysplit.generate_bulktraj(basename = 'colgate', \n",
    "                              hysplit_working = working_dir, \n",
    "                              output_dir = r'/Users/jessssli/Documents/04 Sub-Annual Model of Wildfire PM/HYSPLIT Speed Test/trajectories/colgate2/', \n",
    "                              meteo_dir = r'/Users/jessssli/Documents/04 Sub-Annual Model of Wildfire PM/HYSPLIT Speed Test/met/gdas1/', \n",
    "                              years = [years], \n",
    "                              months = [1, 8], \n",
    "                              hours = [11, 17, 23], \n",
    "                              altitudes = [500, 1000, 1500], \n",
    "                              coordinates = (42.82, -75.54), \n",
    "                              run = -120, \n",
    "                              monthslice = slice(0, 32, 2), \n",
    "                              get_reverse = True, \n",
    "                              get_clipped = True,\n",
    "                              hysplit = r'/Users/jessssli/hysplit/exec/hyts_std')\n"
   ]
  },
  {
   "cell_type": "code",
   "execution_count": 43,
   "metadata": {
    "ExecuteTime": {
     "end_time": "2021-04-23T19:40:26.705704Z",
     "start_time": "2021-04-23T19:40:26.703439Z"
    }
   },
   "outputs": [],
   "source": [
    "num_cores = multiprocessing.cpu_count()"
   ]
  },
  {
   "cell_type": "code",
   "execution_count": 44,
   "metadata": {
    "ExecuteTime": {
     "end_time": "2021-04-23T19:40:27.338010Z",
     "start_time": "2021-04-23T19:40:27.335566Z"
    }
   },
   "outputs": [],
   "source": [
    "years = [2007, 2011]"
   ]
  },
  {
   "cell_type": "code",
   "execution_count": 45,
   "metadata": {
    "ExecuteTime": {
     "end_time": "2021-04-23T19:43:42.156040Z",
     "start_time": "2021-04-23T19:40:28.091721Z"
    }
   },
   "outputs": [
    {
     "data": {
      "text/plain": [
       "[None, None]"
      ]
     },
     "execution_count": 45,
     "metadata": {},
     "output_type": "execute_result"
    }
   ],
   "source": [
    "Parallel(n_jobs = num_cores)(delayed(myfunc)(yr) for yr in years)"
   ]
  },
  {
   "cell_type": "code",
   "execution_count": 46,
   "metadata": {
    "ExecuteTime": {
     "end_time": "2021-04-23T19:43:42.782465Z",
     "start_time": "2021-04-23T19:43:42.174257Z"
    }
   },
   "outputs": [
    {
     "data": {
      "text/plain": [
       "0"
      ]
     },
     "execution_count": 46,
     "metadata": {},
     "output_type": "execute_result"
    }
   ],
   "source": [
    "os.system('say done')"
   ]
  },
  {
   "cell_type": "code",
   "execution_count": null,
   "metadata": {},
   "outputs": [],
   "source": []
  },
  {
   "cell_type": "code",
   "execution_count": null,
   "metadata": {},
   "outputs": [],
   "source": []
  }
 ],
 "metadata": {
  "kernelspec": {
   "display_name": "Python 3",
   "language": "python",
   "name": "python3"
  },
  "language_info": {
   "codemirror_mode": {
    "name": "ipython",
    "version": 3
   },
   "file_extension": ".py",
   "mimetype": "text/x-python",
   "name": "python",
   "nbconvert_exporter": "python",
   "pygments_lexer": "ipython3",
   "version": "3.8.5"
  },
  "toc": {
   "base_numbering": 1,
   "nav_menu": {},
   "number_sections": true,
   "sideBar": true,
   "skip_h1_title": false,
   "title_cell": "Table of Contents",
   "title_sidebar": "Contents",
   "toc_cell": false,
   "toc_position": {},
   "toc_section_display": true,
   "toc_window_display": false
  },
  "varInspector": {
   "cols": {
    "lenName": 16,
    "lenType": 16,
    "lenVar": 40
   },
   "kernels_config": {
    "python": {
     "delete_cmd_postfix": "",
     "delete_cmd_prefix": "del ",
     "library": "var_list.py",
     "varRefreshCmd": "print(var_dic_list())"
    },
    "r": {
     "delete_cmd_postfix": ") ",
     "delete_cmd_prefix": "rm(",
     "library": "var_list.r",
     "varRefreshCmd": "cat(var_dic_list()) "
    }
   },
   "types_to_exclude": [
    "module",
    "function",
    "builtin_function_or_method",
    "instance",
    "_Feature"
   ],
   "window_display": false
  }
 },
 "nbformat": 4,
 "nbformat_minor": 4
}
