{
 "cells": [
  {
   "cell_type": "code",
   "execution_count": 58,
   "metadata": {
    "ExecuteTime": {
     "end_time": "2021-05-21T21:19:42.217045Z",
     "start_time": "2021-05-21T21:19:42.214852Z"
    }
   },
   "outputs": [],
   "source": [
    "import os\n",
    "import shutil"
   ]
  },
  {
   "cell_type": "code",
   "execution_count": 6,
   "metadata": {
    "ExecuteTime": {
     "end_time": "2021-05-21T18:22:51.343523Z",
     "start_time": "2021-05-21T18:22:47.618324Z"
    }
   },
   "outputs": [],
   "source": [
    "import pysplit"
   ]
  },
  {
   "cell_type": "code",
   "execution_count": 83,
   "metadata": {
    "ExecuteTime": {
     "end_time": "2021-05-21T23:29:07.048701Z",
     "start_time": "2021-05-21T23:29:06.918153Z"
    }
   },
   "outputs": [],
   "source": [
    "from joblib import Parallel, delayed\n",
    "import multiprocessing"
   ]
  },
  {
   "cell_type": "code",
   "execution_count": 1,
   "metadata": {
    "ExecuteTime": {
     "end_time": "2021-05-21T18:09:48.494960Z",
     "start_time": "2021-05-21T18:09:46.493227Z"
    }
   },
   "outputs": [],
   "source": [
    "import pandas as pd\n",
    "import rpy2.robjects as robjects\n",
    "from rpy2.robjects import pandas2ri"
   ]
  },
  {
   "cell_type": "code",
   "execution_count": 2,
   "metadata": {
    "ExecuteTime": {
     "end_time": "2021-05-21T18:09:54.121342Z",
     "start_time": "2021-05-21T18:09:54.117697Z"
    }
   },
   "outputs": [],
   "source": [
    "readRDS = robjects.r['readRDS']"
   ]
  },
  {
   "cell_type": "code",
   "execution_count": 4,
   "metadata": {
    "ExecuteTime": {
     "end_time": "2021-05-21T18:14:29.942803Z",
     "start_time": "2021-05-21T18:12:04.570013Z"
    }
   },
   "outputs": [],
   "source": [
    "df = readRDS('/Users/jessssli/BurkeLab Dropbox/Data/hms_hysplit/hms_hysplit_initialization_distinct.rds')\n",
    "df = pandas2ri.rpy2py_dataframe(df)"
   ]
  },
  {
   "cell_type": "code",
   "execution_count": 17,
   "metadata": {
    "ExecuteTime": {
     "end_time": "2021-05-21T18:31:37.719673Z",
     "start_time": "2021-05-21T18:31:37.540714Z"
    }
   },
   "outputs": [
    {
     "data": {
      "text/html": [
       "<div>\n",
       "<style scoped>\n",
       "    .dataframe tbody tr th:only-of-type {\n",
       "        vertical-align: middle;\n",
       "    }\n",
       "\n",
       "    .dataframe tbody tr th {\n",
       "        vertical-align: top;\n",
       "    }\n",
       "\n",
       "    .dataframe thead th {\n",
       "        text-align: right;\n",
       "    }\n",
       "</style>\n",
       "<table border=\"1\" class=\"dataframe\">\n",
       "  <thead>\n",
       "    <tr style=\"text-align: right;\">\n",
       "      <th></th>\n",
       "      <th>lon</th>\n",
       "      <th>lat</th>\n",
       "      <th>height</th>\n",
       "      <th>year</th>\n",
       "      <th>month</th>\n",
       "      <th>day</th>\n",
       "      <th>hour</th>\n",
       "      <th>minute</th>\n",
       "      <th>ymd</th>\n",
       "      <th>state</th>\n",
       "    </tr>\n",
       "  </thead>\n",
       "  <tbody>\n",
       "    <tr>\n",
       "      <th>5294356</th>\n",
       "      <td>-120.55</td>\n",
       "      <td>38.25</td>\n",
       "      <td>500.0</td>\n",
       "      <td>2020.0</td>\n",
       "      <td>1.0</td>\n",
       "      <td>1.0</td>\n",
       "      <td>14.0</td>\n",
       "      <td>0.0</td>\n",
       "      <td>2020-01-01</td>\n",
       "      <td>California</td>\n",
       "    </tr>\n",
       "    <tr>\n",
       "      <th>5294357</th>\n",
       "      <td>-120.55</td>\n",
       "      <td>38.25</td>\n",
       "      <td>1500.0</td>\n",
       "      <td>2020.0</td>\n",
       "      <td>1.0</td>\n",
       "      <td>1.0</td>\n",
       "      <td>14.0</td>\n",
       "      <td>0.0</td>\n",
       "      <td>2020-01-01</td>\n",
       "      <td>California</td>\n",
       "    </tr>\n",
       "    <tr>\n",
       "      <th>5294358</th>\n",
       "      <td>-120.55</td>\n",
       "      <td>38.25</td>\n",
       "      <td>2500.0</td>\n",
       "      <td>2020.0</td>\n",
       "      <td>1.0</td>\n",
       "      <td>1.0</td>\n",
       "      <td>14.0</td>\n",
       "      <td>0.0</td>\n",
       "      <td>2020-01-01</td>\n",
       "      <td>California</td>\n",
       "    </tr>\n",
       "    <tr>\n",
       "      <th>5294359</th>\n",
       "      <td>-120.55</td>\n",
       "      <td>38.25</td>\n",
       "      <td>500.0</td>\n",
       "      <td>2020.0</td>\n",
       "      <td>1.0</td>\n",
       "      <td>1.0</td>\n",
       "      <td>18.0</td>\n",
       "      <td>0.0</td>\n",
       "      <td>2020-01-01</td>\n",
       "      <td>California</td>\n",
       "    </tr>\n",
       "    <tr>\n",
       "      <th>5294360</th>\n",
       "      <td>-120.55</td>\n",
       "      <td>38.25</td>\n",
       "      <td>1500.0</td>\n",
       "      <td>2020.0</td>\n",
       "      <td>1.0</td>\n",
       "      <td>1.0</td>\n",
       "      <td>18.0</td>\n",
       "      <td>0.0</td>\n",
       "      <td>2020-01-01</td>\n",
       "      <td>California</td>\n",
       "    </tr>\n",
       "    <tr>\n",
       "      <th>...</th>\n",
       "      <td>...</td>\n",
       "      <td>...</td>\n",
       "      <td>...</td>\n",
       "      <td>...</td>\n",
       "      <td>...</td>\n",
       "      <td>...</td>\n",
       "      <td>...</td>\n",
       "      <td>...</td>\n",
       "      <td>...</td>\n",
       "      <td>...</td>\n",
       "    </tr>\n",
       "    <tr>\n",
       "      <th>5919902</th>\n",
       "      <td>-121.25</td>\n",
       "      <td>36.25</td>\n",
       "      <td>1500.0</td>\n",
       "      <td>2020.0</td>\n",
       "      <td>12.0</td>\n",
       "      <td>31.0</td>\n",
       "      <td>19.0</td>\n",
       "      <td>0.0</td>\n",
       "      <td>2020-12-31</td>\n",
       "      <td>California</td>\n",
       "    </tr>\n",
       "    <tr>\n",
       "      <th>5919903</th>\n",
       "      <td>-121.25</td>\n",
       "      <td>36.25</td>\n",
       "      <td>2500.0</td>\n",
       "      <td>2020.0</td>\n",
       "      <td>12.0</td>\n",
       "      <td>31.0</td>\n",
       "      <td>19.0</td>\n",
       "      <td>0.0</td>\n",
       "      <td>2020-12-31</td>\n",
       "      <td>California</td>\n",
       "    </tr>\n",
       "    <tr>\n",
       "      <th>5919907</th>\n",
       "      <td>-121.05</td>\n",
       "      <td>37.15</td>\n",
       "      <td>500.0</td>\n",
       "      <td>2020.0</td>\n",
       "      <td>12.0</td>\n",
       "      <td>31.0</td>\n",
       "      <td>20.0</td>\n",
       "      <td>0.0</td>\n",
       "      <td>2020-12-31</td>\n",
       "      <td>California</td>\n",
       "    </tr>\n",
       "    <tr>\n",
       "      <th>5919908</th>\n",
       "      <td>-121.05</td>\n",
       "      <td>37.15</td>\n",
       "      <td>1500.0</td>\n",
       "      <td>2020.0</td>\n",
       "      <td>12.0</td>\n",
       "      <td>31.0</td>\n",
       "      <td>20.0</td>\n",
       "      <td>0.0</td>\n",
       "      <td>2020-12-31</td>\n",
       "      <td>California</td>\n",
       "    </tr>\n",
       "    <tr>\n",
       "      <th>5919909</th>\n",
       "      <td>-121.05</td>\n",
       "      <td>37.15</td>\n",
       "      <td>2500.0</td>\n",
       "      <td>2020.0</td>\n",
       "      <td>12.0</td>\n",
       "      <td>31.0</td>\n",
       "      <td>20.0</td>\n",
       "      <td>0.0</td>\n",
       "      <td>2020-12-31</td>\n",
       "      <td>California</td>\n",
       "    </tr>\n",
       "  </tbody>\n",
       "</table>\n",
       "<p>64527 rows × 10 columns</p>\n",
       "</div>"
      ],
      "text/plain": [
       "            lon    lat  height    year  month   day  hour  minute         ymd  \\\n",
       "5294356 -120.55  38.25   500.0  2020.0    1.0   1.0  14.0     0.0  2020-01-01   \n",
       "5294357 -120.55  38.25  1500.0  2020.0    1.0   1.0  14.0     0.0  2020-01-01   \n",
       "5294358 -120.55  38.25  2500.0  2020.0    1.0   1.0  14.0     0.0  2020-01-01   \n",
       "5294359 -120.55  38.25   500.0  2020.0    1.0   1.0  18.0     0.0  2020-01-01   \n",
       "5294360 -120.55  38.25  1500.0  2020.0    1.0   1.0  18.0     0.0  2020-01-01   \n",
       "...         ...    ...     ...     ...    ...   ...   ...     ...         ...   \n",
       "5919902 -121.25  36.25  1500.0  2020.0   12.0  31.0  19.0     0.0  2020-12-31   \n",
       "5919903 -121.25  36.25  2500.0  2020.0   12.0  31.0  19.0     0.0  2020-12-31   \n",
       "5919907 -121.05  37.15   500.0  2020.0   12.0  31.0  20.0     0.0  2020-12-31   \n",
       "5919908 -121.05  37.15  1500.0  2020.0   12.0  31.0  20.0     0.0  2020-12-31   \n",
       "5919909 -121.05  37.15  2500.0  2020.0   12.0  31.0  20.0     0.0  2020-12-31   \n",
       "\n",
       "              state  \n",
       "5294356  California  \n",
       "5294357  California  \n",
       "5294358  California  \n",
       "5294359  California  \n",
       "5294360  California  \n",
       "...             ...  \n",
       "5919902  California  \n",
       "5919903  California  \n",
       "5919907  California  \n",
       "5919908  California  \n",
       "5919909  California  \n",
       "\n",
       "[64527 rows x 10 columns]"
      ]
     },
     "execution_count": 17,
     "metadata": {},
     "output_type": "execute_result"
    }
   ],
   "source": [
    "df[(df[\"state\"] == \"California\") & (df[\"year\"] == 2020)]"
   ]
  },
  {
   "cell_type": "code",
   "execution_count": 39,
   "metadata": {
    "ExecuteTime": {
     "end_time": "2021-05-08T04:03:33.660299Z",
     "start_time": "2021-05-08T04:03:33.652615Z"
    }
   },
   "outputs": [
    {
     "data": {
      "text/html": [
       "<div>\n",
       "<style scoped>\n",
       "    .dataframe tbody tr th:only-of-type {\n",
       "        vertical-align: middle;\n",
       "    }\n",
       "\n",
       "    .dataframe tbody tr th {\n",
       "        vertical-align: top;\n",
       "    }\n",
       "\n",
       "    .dataframe thead th {\n",
       "        text-align: right;\n",
       "    }\n",
       "</style>\n",
       "<table border=\"1\" class=\"dataframe\">\n",
       "  <thead>\n",
       "    <tr style=\"text-align: right;\">\n",
       "      <th></th>\n",
       "      <th>height</th>\n",
       "      <th>year</th>\n",
       "    </tr>\n",
       "  </thead>\n",
       "  <tbody>\n",
       "    <tr>\n",
       "      <th>2</th>\n",
       "      <td>500.0</td>\n",
       "      <td>2011.0</td>\n",
       "    </tr>\n",
       "    <tr>\n",
       "      <th>3</th>\n",
       "      <td>500.0</td>\n",
       "      <td>2011.0</td>\n",
       "    </tr>\n",
       "  </tbody>\n",
       "</table>\n",
       "</div>"
      ],
      "text/plain": [
       "   height    year\n",
       "2   500.0  2011.0\n",
       "3   500.0  2011.0"
      ]
     },
     "execution_count": 39,
     "metadata": {},
     "output_type": "execute_result"
    }
   ],
   "source": [
    "df.iloc[1:3,2:4]"
   ]
  },
  {
   "cell_type": "code",
   "execution_count": 81,
   "metadata": {
    "ExecuteTime": {
     "end_time": "2021-05-21T21:45:13.566230Z",
     "start_time": "2021-05-21T21:45:13.227963Z"
    }
   },
   "outputs": [],
   "source": [
    "pysplit.generate_bulktraj(\n",
    "    basename='',\n",
    "    hysplit_working=r'/Users/jessssli/Documents/04 Sub-Annual Model of Wildfire PM/test27/working/',\n",
    "    output_dir=r'/Users/jessssli/Documents/04 Sub-Annual Model of Wildfire PM/test28/out/',\n",
    "    meteo_dir=r'/Users/jessssli/BurkeLab Dropbox/Data/meteorology/gdas1/',\n",
    "    years=[2020],\n",
    "    months=[1],\n",
    "    hours=[14],\n",
    "    altitudes=[500],\n",
    "    coordinates=(38.25, -120.55),\n",
    "    run = 72,\n",
    "    meteoyr_2digits=True,\n",
    "    outputyr_2digits=False,\n",
    "    monthslice=slice(0, 1, 1),\n",
    "    meteo_bookends=([4, 5], [1]),\n",
    "    get_reverse=False,\n",
    "    get_clipped=False,\n",
    "    hysplit=r'/Users/jessssli/hysplit/exec/hyts_std'\n",
    ")"
   ]
  },
  {
   "cell_type": "code",
   "execution_count": null,
   "metadata": {},
   "outputs": [],
   "source": [
    "def generate_bulktraj_day():\n",
    "    # Get points for the day\n",
    "    \n",
    "    for point in points:\n",
    "        # Generate trajectory\n",
    "        \n",
    "        # Rename trajectory output file"
   ]
  },
  {
   "cell_type": "code",
   "execution_count": null,
   "metadata": {},
   "outputs": [],
   "source": [
    "def rename_traj(coordinates, height, year, month, day, hour, out_dir, basename, mmm, seasons, dur, dxn):\n",
    "    # Rename trajectory output file\n",
    "    height_i_ = '0' + str(height_i) if height_i < 1000 else str(height_i)\n",
    "    year_i = str(year_i)\n",
    "    season_i = seasons[month_i]\n",
    "    mmm_i = mmm[month_i]\n",
    "    month_i = '0' + str(month_i) if month_i < 10 else str(month_i)\n",
    "    day_i = '0' + str(day_i) if day_i < 10 else str(day_i)\n",
    "    hour_i = '0' + str(hour_i) if hour_i < 10 else str(hour_i)\n",
    "    lat_i = str(coordinates_i[0]).replace('.', 'p')\n",
    "    lon_i = str(coordinates_i[1]).replace('.', 'p')\n",
    "    fname_o = out_dir + basename + mmm_i + height_i_ + season_i + year_i + month_i + day_i + hour_i\n",
    "    fname_n = f'{out_dir}traj-{basename}-{dxn}-{year_i[-2:]}-{month_i}-{day_i}-{hour_i}-1lat_{lat_i}_lon_{lon_i}-hgt_{height_i}-{dur}h'\n",
    "    os.rename(fname_o, fname_n)\n",
    "    "
   ]
  },
  {
   "cell_type": "code",
   "execution_count": null,
   "metadata": {},
   "outputs": [],
   "source": [
    "def generate_bulktraj_point(basename, hysplit_working, output_dir, meteo_dir, years, months, hours, altitudes,\n",
    "                           coordinates, run, meteoyr_2digits, outputyr_2digits, monthslice, meteo_bookends,\n",
    "                           get_reverse, get_clipped, hysplit, mmm, seasons, out_dir, dur, dxn):\n",
    "    pysplit.generate_bulktraj(\n",
    "        basename = basename,\n",
    "        hysplit_working = hysplit_working,\n",
    "        output_dir = output_dir,\n",
    "        meteo_dir = meteo_dir,\n",
    "        years = years,\n",
    "        months = months,\n",
    "        hours = hours,\n",
    "        altitudes = altitudes,\n",
    "        coordinates = coordinates,\n",
    "        run = run,\n",
    "        meteoyr_2digits = meteoyr_2digits,\n",
    "        outputyr_2digits = outputyr_2digits,\n",
    "        monthslice = slice(0, 1, 1),\n",
    "        meteo_bookends = meteo_bookends,\n",
    "        get_reverse = get_reverse,\n",
    "        get_clipped = get_clipped,\n",
    "        hysplit = hysplit\n",
    "    )\n",
    "    \n",
    "    rename_traj(coordinate, height = altitudes, year, month, day, hour, out_dir, basename, mmm, seasons, dur, dxn)"
   ]
  },
  {
   "cell_type": "code",
   "execution_count": null,
   "metadata": {},
   "outputs": [],
   "source": [
    "def generate_bulktraj_point_(day):\n",
    "    generate_bulktraj_point(day[0], day[1])"
   ]
  },
  {
   "cell_type": "code",
   "execution_count": null,
   "metadata": {},
   "outputs": [],
   "source": [
    "def generate_bulktraj_parallel(\n",
    "    num_cores,\n",
    "    out_dir,\n",
    "    basename,\n",
    "    hysplit_working,\n",
    "    exec_dir,\n",
    "    meteo_dir,\n",
    "    years,\n",
    "    months,\n",
    "    hours,\n",
    "    altitudes,\n",
    "    coordinates,\n",
    "    run,\n",
    "    meteoyr_2digits=True,\n",
    "    outputyr_2digits=False,\n",
    "    monthslice=slice(0, 32, 1),\n",
    "    meteo_bookends=([4, 5], [1]),\n",
    "    get_reverse=False,\n",
    "    get_clipped=False,\n",
    "    hysplit='C:\\\\hysplit4\\\\exec\\\\hyts_std'\n",
    "):\n",
    "    # Confirm meteorology directory exists\n",
    "    assert os.path.isdir(meteo_dir)\n",
    "\n",
    "    # Create working directory for each core\n",
    "    if !os.path.isdir(exec_dir):\n",
    "        os.mkdir(exec_dir)\n",
    "    if exec_dir[-1] != '/':\n",
    "        exec_dir = exec_dir + '/'\n",
    "    exec_dir = [exec_dir + str(num_core) +\n",
    "                '/' for num_core in range(1, num_cores)]\n",
    "    for d in exec_dir:\n",
    "        os.mkdir(d)\n",
    "\n",
    "    # Confirm output directory exists or make it\n",
    "    if !os.path.isdir(out_dir):\n",
    "        os.mkdir(out_dir)\n",
    "    if out_dir[-1] != '/':\n",
    "        out_dir = out_dir = '/'\n",
    "\n",
    "    seasons = {12: 'winter',\n",
    "               1: 'winter',\n",
    "               2: 'winter',\n",
    "               3: 'spring',\n",
    "               4: 'spring',\n",
    "               5: 'spring',\n",
    "               6: 'summer',\n",
    "               7: 'summer',\n",
    "               8: 'summer',\n",
    "               9: 'autumn',\n",
    "               10: 'autumn',\n",
    "               11: 'autumn'}\n",
    "    mmm = {1: 'jan',\n",
    "           2: 'feb',\n",
    "           3: 'mar',\n",
    "           4: 'apr',\n",
    "           5: 'may',\n",
    "           6: 'jun',\n",
    "           7: 'jul',\n",
    "           8: 'aug',\n",
    "           9: 'sep',\n",
    "           10: 'oct',\n",
    "           11: 'nov',\n",
    "           12: 'dec'}\n",
    "    dxn = 'fwd' if run > 0 else 'bwd'\n",
    "    dur = abs(run)\n",
    "    \n",
    "    # Put args in list\n",
    "    days = [\n",
    "        coordinates\n",
    "        altitudes\n",
    "        years\n",
    "        months\n",
    "        hours\n",
    "        monthslice\n",
    "        run\n",
    "        \n",
    "    ]\n",
    "\n",
    "    # Determine which working directory to use\n",
    "    # Generate HYSPLIT trajectory\n",
    "\n",
    "    Parallel(n_jobs = num_cores)(delayed(generate_bulktraj_point_)(day) for day in days)\n",
    "\n",
    "    # Consolidate output to one folder\n",
    "    for d in exec_dir:\n",
    "        files = os.listdir(d)\n",
    "        for f in files:\n",
    "            shutil.move(d + f, out_dir)"
   ]
  },
  {
   "cell_type": "code",
   "execution_count": null,
   "metadata": {},
   "outputs": [],
   "source": [
    "def generate_bulktraj_parallel(\n",
    "    num_cores,\n",
    "    out_dir,\n",
    "    basename,\n",
    "    hysplit_working,\n",
    "    exec_dir,\n",
    "    meteo_dir,\n",
    "    years,\n",
    "    months,\n",
    "    hours,\n",
    "    altitudes,\n",
    "    coordinates,\n",
    "    run,\n",
    "    meteoyr_2digits=True,\n",
    "    outputyr_2digits=False,\n",
    "    monthslice=slice(0, 32, 1),\n",
    "    meteo_bookends=([4, 5], [1]),\n",
    "    get_reverse=False,\n",
    "    get_clipped=False,\n",
    "    hysplit='C:\\\\hysplit4\\\\exec\\\\hyts_std'\n",
    "):\n",
    "    # Confirm meteorology directory exists\n",
    "    assert os.path.isdir(meteo_dir)\n",
    "\n",
    "    # Create working directory for each core\n",
    "    if !os.path.isdir(exec_dir):\n",
    "        os.mkdir(exec_dir)\n",
    "    if exec_dir[-1] != '/':\n",
    "        exec_dir = exec_dir + '/'\n",
    "    exec_dir = [exec_dir + str(num_core) +\n",
    "                '/' for num_core in range(1, num_cores)]\n",
    "    for d in exec_dir:\n",
    "        os.mkdir(d)\n",
    "\n",
    "    # Confirm output directory exists or make it\n",
    "    if !os.path.isdir(out_dir):\n",
    "        os.mkdir(out_dir)\n",
    "    if out_dir[-1] != '/':\n",
    "        out_dir = out_dir = '/'\n",
    "\n",
    "    seasons = {12: 'winter',\n",
    "               1: 'winter',\n",
    "               2: 'winter',\n",
    "               3: 'spring',\n",
    "               4: 'spring',\n",
    "               5: 'spring',\n",
    "               6: 'summer',\n",
    "               7: 'summer',\n",
    "               8: 'summer',\n",
    "               9: 'autumn',\n",
    "               10: 'autumn',\n",
    "               11: 'autumn'}\n",
    "    mmm = {1: 'jan',\n",
    "           2: 'feb',\n",
    "           3: 'mar',\n",
    "           4: 'apr',\n",
    "           5: 'may',\n",
    "           6: 'jun',\n",
    "           7: 'jul',\n",
    "           8: 'aug',\n",
    "           9: 'sep',\n",
    "           10: 'oct',\n",
    "           11: 'nov',\n",
    "           12: 'dec'}\n",
    "    dxn = 'fwd' if run > 0 else 'bwd'\n",
    "    dur = abs(run)\n",
    "\n",
    "    # Determine which working directory to use\n",
    "    # Generate HYSPLIT trajectory\n",
    "\n",
    "    pysplit.generate_bulktraj(\n",
    "        basename=basename,\n",
    "        hysplit_working=hysplit_working,\n",
    "        output_dir=output_dir,\n",
    "        meteo_dir=meteo_dir,\n",
    "        years=[2020],\n",
    "        months=[1],\n",
    "        hours=[14],\n",
    "        altitudes=[500],\n",
    "        coordinates=(38.25, -120.55),\n",
    "        run=72,\n",
    "        meteoyr_2digits=meteoyr_2digits,\n",
    "        outputyr_2digits=outputyr_2digits,\n",
    "        monthslice=slice(0, 1, 1),\n",
    "        meteo_bookends=meteo_bookends,\n",
    "        get_reverse=get_reverse,\n",
    "        get_clipped=get_clipped,\n",
    "        hysplit=hysplit\n",
    "    )\n",
    "\n",
    "    # Rename trajectory output file\n",
    "    height_i_ = '0' + str(height_i) if height_i < 1000 else str(height_i)\n",
    "    year_i = str(year_i)\n",
    "    season_i = seasons[month_i]\n",
    "    mmm_i = mmm[month_i]\n",
    "    month_i = '0' + str(month_i) if month_i < 10 else str(month_i)\n",
    "    day_i = '0' + str(day_i) if day_i < 10 else str(day_i)\n",
    "    hour_i = '0' + str(hour_i) if hour_i < 10 else str(hour_i)\n",
    "    lat_i = str(coordinates_i[0]).replace('.', 'p')\n",
    "    lon_i = str(coordinates_i[1]).replace('.', 'p')\n",
    "    fname_o = out_dir + basename + mmm_i + height_i_ + season_i + year_i + month_i + day_i + hour_i\n",
    "    fname_n = f'{out_dir}traj-{basename}-{dxn}-{year_i[-2:]}-{month_i}-{day_i}-{hour_i}-1lat_{lat_i}_lon_{lon_i}-hgt_{height_i}-{dur}h'\n",
    "    os.rename(fname_o, fname_n)\n",
    "    \n",
    "    Parallel(n_jobs = num_cores)(delayed(myfunc)(day) for day in days)\n",
    "\n",
    "    # Consolidate output to one folder\n",
    "    for d in exec_dir:\n",
    "        files = os.listdir(d)\n",
    "        for f in files:\n",
    "            shutil.move(d + f, out_dir)"
   ]
  },
  {
   "cell_type": "code",
   "execution_count": 42,
   "metadata": {
    "ExecuteTime": {
     "end_time": "2021-04-23T19:40:26.138947Z",
     "start_time": "2021-04-23T19:40:26.135077Z"
    }
   },
   "outputs": [],
   "source": [
    "def myfunc(years):\n",
    "    working_dir = r'/Users/jessssli/Documents/04 Sub-Annual Model of Wildfire PM/HYSPLIT Speed Test/working/working_' + str(years)\n",
    "    pysplit.generate_bulktraj(basename = 'colgate', \n",
    "                              hysplit_working = working_dir, \n",
    "                              output_dir = r'/Users/jessssli/Documents/04 Sub-Annual Model of Wildfire PM/HYSPLIT Speed Test/trajectories/colgate2/', \n",
    "                              meteo_dir = r'/Users/jessssli/Documents/04 Sub-Annual Model of Wildfire PM/HYSPLIT Speed Test/met/gdas1/', \n",
    "                              years = [years], \n",
    "                              months = [1, 8], \n",
    "                              hours = [11, 17, 23], \n",
    "                              altitudes = [500, 1000, 1500], \n",
    "                              coordinates = (42.82, -75.54), \n",
    "                              run = -120, \n",
    "                              monthslice = slice(0, 32, 2), \n",
    "                              get_reverse = True, \n",
    "                              get_clipped = True,\n",
    "                              hysplit = r'/Users/jessssli/hysplit/exec/hyts_std')\n"
   ]
  },
  {
   "cell_type": "code",
   "execution_count": 43,
   "metadata": {
    "ExecuteTime": {
     "end_time": "2021-04-23T19:40:26.705704Z",
     "start_time": "2021-04-23T19:40:26.703439Z"
    }
   },
   "outputs": [],
   "source": [
    "num_cores = multiprocessing.cpu_count()"
   ]
  },
  {
   "cell_type": "code",
   "execution_count": 44,
   "metadata": {
    "ExecuteTime": {
     "end_time": "2021-04-23T19:40:27.338010Z",
     "start_time": "2021-04-23T19:40:27.335566Z"
    }
   },
   "outputs": [],
   "source": [
    "years = [2007, 2011]"
   ]
  },
  {
   "cell_type": "code",
   "execution_count": 45,
   "metadata": {
    "ExecuteTime": {
     "end_time": "2021-04-23T19:43:42.156040Z",
     "start_time": "2021-04-23T19:40:28.091721Z"
    }
   },
   "outputs": [
    {
     "data": {
      "text/plain": [
       "[None, None]"
      ]
     },
     "execution_count": 45,
     "metadata": {},
     "output_type": "execute_result"
    }
   ],
   "source": [
    "Parallel(n_jobs = num_cores)(delayed(myfunc)(yr) for yr in years)"
   ]
  },
  {
   "cell_type": "code",
   "execution_count": 82,
   "metadata": {
    "ExecuteTime": {
     "end_time": "2021-05-21T23:17:10.296642Z",
     "start_time": "2021-05-21T23:17:10.293031Z"
    }
   },
   "outputs": [
    {
     "data": {
      "text/plain": [
       "'__main__'"
      ]
     },
     "execution_count": 82,
     "metadata": {},
     "output_type": "execute_result"
    }
   ],
   "source": [
    "__name__"
   ]
  },
  {
   "cell_type": "code",
   "execution_count": null,
   "metadata": {},
   "outputs": [],
   "source": []
  },
  {
   "cell_type": "code",
   "execution_count": 86,
   "metadata": {
    "ExecuteTime": {
     "end_time": "2021-05-23T01:38:43.503928Z",
     "start_time": "2021-05-23T01:38:43.501239Z"
    }
   },
   "outputs": [],
   "source": [
    "def myfunc(x):\n",
    "    print(x[0], \"hello\", x[1], x[2])"
   ]
  },
  {
   "cell_type": "code",
   "execution_count": 87,
   "metadata": {
    "ExecuteTime": {
     "end_time": "2021-05-23T01:38:45.010796Z",
     "start_time": "2021-05-23T01:38:45.008038Z"
    }
   },
   "outputs": [
    {
     "name": "stdout",
     "output_type": "stream",
     "text": [
      "1 hello 2 3\n"
     ]
    }
   ],
   "source": [
    "myfunc([1,2,3])"
   ]
  },
  {
   "cell_type": "code",
   "execution_count": 88,
   "metadata": {
    "ExecuteTime": {
     "end_time": "2021-05-23T01:39:37.513142Z",
     "start_time": "2021-05-23T01:39:37.510595Z"
    }
   },
   "outputs": [],
   "source": [
    "xs = [[1,2,3],[4,5,6],[7,8,9]]"
   ]
  },
  {
   "cell_type": "code",
   "execution_count": 90,
   "metadata": {
    "ExecuteTime": {
     "end_time": "2021-05-23T01:39:51.278247Z",
     "start_time": "2021-05-23T01:39:50.849195Z"
    }
   },
   "outputs": [
    {
     "data": {
      "text/plain": [
       "[None, None, None]"
      ]
     },
     "execution_count": 90,
     "metadata": {},
     "output_type": "execute_result"
    }
   ],
   "source": [
    "Parallel(n_jobs = 2)(delayed(myfunc)(x) for x in xs)"
   ]
  },
  {
   "cell_type": "code",
   "execution_count": 106,
   "metadata": {
    "ExecuteTime": {
     "end_time": "2021-05-23T02:13:36.535279Z",
     "start_time": "2021-05-23T02:13:36.527484Z"
    }
   },
   "outputs": [
    {
     "ename": "UFuncTypeError",
     "evalue": "ufunc 'add' did not contain a loop with signature matching types (dtype('<U1'), dtype('<U1')) -> dtype('<U1')",
     "output_type": "error",
     "traceback": [
      "\u001b[0;31m---------------------------------------------------------------------------\u001b[0m",
      "\u001b[0;31mUFuncTypeError\u001b[0m                            Traceback (most recent call last)",
      "\u001b[0;32m<ipython-input-106-9be560af3d35>\u001b[0m in \u001b[0;36m<module>\u001b[0;34m\u001b[0m\n\u001b[0;32m----> 1\u001b[0;31m \u001b[0;34m'a'\u001b[0m \u001b[0;34m+\u001b[0m \u001b[0mnp\u001b[0m\u001b[0;34m.\u001b[0m\u001b[0marray\u001b[0m\u001b[0;34m(\u001b[0m\u001b[0;34m[\u001b[0m\u001b[0;34m'b'\u001b[0m\u001b[0;34m,\u001b[0m\u001b[0;34m'c'\u001b[0m\u001b[0;34m]\u001b[0m\u001b[0;34m)\u001b[0m\u001b[0;34m\u001b[0m\u001b[0;34m\u001b[0m\u001b[0m\n\u001b[0m",
      "\u001b[0;31mUFuncTypeError\u001b[0m: ufunc 'add' did not contain a loop with signature matching types (dtype('<U1'), dtype('<U1')) -> dtype('<U1')"
     ]
    }
   ],
   "source": [
    "'a' + np.array(['b','c'])"
   ]
  },
  {
   "cell_type": "code",
   "execution_count": 110,
   "metadata": {
    "ExecuteTime": {
     "end_time": "2021-05-23T02:15:58.729809Z",
     "start_time": "2021-05-23T02:15:58.726334Z"
    }
   },
   "outputs": [
    {
     "data": {
      "text/plain": [
       "['a/b/1', 'a/b/2']"
      ]
     },
     "execution_count": 110,
     "metadata": {},
     "output_type": "execute_result"
    }
   ],
   "source": [
    "[r'a/b/' + str(num_core) for num_core in range(1, 3)]"
   ]
  },
  {
   "cell_type": "code",
   "execution_count": 112,
   "metadata": {
    "ExecuteTime": {
     "end_time": "2021-05-23T02:34:44.790444Z",
     "start_time": "2021-05-23T02:34:44.788198Z"
    }
   },
   "outputs": [],
   "source": [
    "import shutil"
   ]
  },
  {
   "cell_type": "code",
   "execution_count": 116,
   "metadata": {
    "ExecuteTime": {
     "end_time": "2021-05-23T02:44:09.047904Z",
     "start_time": "2021-05-23T02:44:09.044468Z"
    }
   },
   "outputs": [
    {
     "data": {
      "text/plain": [
       "'/Users/jessssli/Downloads/my_dir2/gadm36_CAN_1_sp (1).rds'"
      ]
     },
     "execution_count": 116,
     "metadata": {},
     "output_type": "execute_result"
    }
   ],
   "source": [
    "shutil.move('/Users/jessssli/Downloads/my_dir3/gadm36_CAN_1_sp (1).rds', '/Users/jessssli/Downloads/my_dir2/')"
   ]
  },
  {
   "cell_type": "code",
   "execution_count": 114,
   "metadata": {
    "ExecuteTime": {
     "end_time": "2021-05-23T02:39:50.510553Z",
     "start_time": "2021-05-23T02:39:50.506986Z"
    }
   },
   "outputs": [
    {
     "data": {
      "text/plain": [
       "['gadm36_CAN_1_sp (1) copy.rds', 'gadm36_CAN_1_sp (1).rds']"
      ]
     },
     "execution_count": 114,
     "metadata": {},
     "output_type": "execute_result"
    }
   ],
   "source": [
    "os.listdir('/Users/jessssli/Downloads/my_dir3/')"
   ]
  },
  {
   "cell_type": "code",
   "execution_count": 118,
   "metadata": {
    "ExecuteTime": {
     "end_time": "2021-05-23T02:45:30.855504Z",
     "start_time": "2021-05-23T02:45:30.851578Z"
    }
   },
   "outputs": [],
   "source": [
    "src_dir = '/Users/jessssli/Downloads/my_dir3/'\n",
    "files = os.listdir(src_dir)\n",
    "for f in files:\n",
    "    shutil.move(src_dir + f, '/Users/jessssli/Downloads/my_dir2/')"
   ]
  },
  {
   "cell_type": "code",
   "execution_count": 120,
   "metadata": {
    "ExecuteTime": {
     "end_time": "2021-05-23T02:47:57.342654Z",
     "start_time": "2021-05-23T02:47:57.340042Z"
    }
   },
   "outputs": [
    {
     "name": "stdout",
     "output_type": "stream",
     "text": [
      "2\n",
      "3\n",
      "4\n"
     ]
    }
   ],
   "source": [
    "for i in [1,2,3]:\n",
    "    print(i + 1)"
   ]
  },
  {
   "cell_type": "code",
   "execution_count": 122,
   "metadata": {
    "ExecuteTime": {
     "end_time": "2021-05-23T03:04:12.855708Z",
     "start_time": "2021-05-23T03:04:12.852373Z"
    }
   },
   "outputs": [
    {
     "data": {
      "text/plain": [
       "'bc'"
      ]
     },
     "execution_count": 122,
     "metadata": {},
     "output_type": "execute_result"
    }
   ],
   "source": [
    "'abc'[-2:]"
   ]
  },
  {
   "cell_type": "code",
   "execution_count": 128,
   "metadata": {
    "ExecuteTime": {
     "end_time": "2021-05-23T03:06:17.953275Z",
     "start_time": "2021-05-23T03:06:17.949890Z"
    }
   },
   "outputs": [
    {
     "data": {
      "text/plain": [
       "'-125.34'"
      ]
     },
     "execution_count": 128,
     "metadata": {},
     "output_type": "execute_result"
    }
   ],
   "source": [
    "str((38.95, -125.34)[1])"
   ]
  },
  {
   "cell_type": "code",
   "execution_count": 129,
   "metadata": {
    "ExecuteTime": {
     "end_time": "2021-05-23T03:07:18.531596Z",
     "start_time": "2021-05-23T03:07:18.527913Z"
    }
   },
   "outputs": [
    {
     "data": {
      "text/plain": [
       "'abdc'"
      ]
     },
     "execution_count": 129,
     "metadata": {},
     "output_type": "execute_result"
    }
   ],
   "source": [
    "'ab.c'.replace('.','d')"
   ]
  },
  {
   "cell_type": "code",
   "execution_count": 130,
   "metadata": {
    "ExecuteTime": {
     "end_time": "2021-05-23T03:09:48.480968Z",
     "start_time": "2021-05-23T03:09:48.477798Z"
    }
   },
   "outputs": [
    {
     "data": {
      "text/plain": [
       "2"
      ]
     },
     "execution_count": 130,
     "metadata": {},
     "output_type": "execute_result"
    }
   ],
   "source": [
    "abs(-2)"
   ]
  },
  {
   "cell_type": "code",
   "execution_count": 131,
   "metadata": {
    "ExecuteTime": {
     "end_time": "2021-05-23T03:16:54.412230Z",
     "start_time": "2021-05-23T03:16:54.409886Z"
    }
   },
   "outputs": [],
   "source": [
    "x = {1:'a',2:'b'}"
   ]
  },
  {
   "cell_type": "code",
   "execution_count": 132,
   "metadata": {
    "ExecuteTime": {
     "end_time": "2021-05-23T03:16:56.014371Z",
     "start_time": "2021-05-23T03:16:56.010816Z"
    }
   },
   "outputs": [
    {
     "data": {
      "text/plain": [
       "'a'"
      ]
     },
     "execution_count": 132,
     "metadata": {},
     "output_type": "execute_result"
    }
   ],
   "source": [
    "x[1]"
   ]
  },
  {
   "cell_type": "code",
   "execution_count": 133,
   "metadata": {
    "ExecuteTime": {
     "end_time": "2021-05-23T15:35:39.972248Z",
     "start_time": "2021-05-23T15:35:39.966339Z"
    }
   },
   "outputs": [],
   "source": [
    "import time"
   ]
  },
  {
   "cell_type": "code",
   "execution_count": 146,
   "metadata": {
    "ExecuteTime": {
     "end_time": "2021-05-23T15:39:15.216320Z",
     "start_time": "2021-05-23T15:39:15.213813Z"
    }
   },
   "outputs": [],
   "source": [
    "xs = [1,7,2,3,4]"
   ]
  },
  {
   "cell_type": "code",
   "execution_count": 137,
   "metadata": {
    "ExecuteTime": {
     "end_time": "2021-05-23T15:36:54.767503Z",
     "start_time": "2021-05-23T15:36:54.765253Z"
    }
   },
   "outputs": [],
   "source": [
    "def myfunc(x):\n",
    "    time.sleep(x)\n",
    "    return(x)"
   ]
  },
  {
   "cell_type": "code",
   "execution_count": 147,
   "metadata": {
    "ExecuteTime": {
     "end_time": "2021-05-23T15:39:23.507937Z",
     "start_time": "2021-05-23T15:39:16.481340Z"
    }
   },
   "outputs": [
    {
     "data": {
      "text/plain": [
       "[1, 7, 2, 3, 4]"
      ]
     },
     "execution_count": 147,
     "metadata": {},
     "output_type": "execute_result"
    }
   ],
   "source": [
    "Parallel(n_jobs = 3)(delayed(lambda x: myfunc(x))(x) for x in xs)"
   ]
  },
  {
   "cell_type": "code",
   "execution_count": 134,
   "metadata": {
    "ExecuteTime": {
     "end_time": "2021-05-23T15:36:04.731268Z",
     "start_time": "2021-05-23T15:35:54.728144Z"
    }
   },
   "outputs": [],
   "source": [
    "time.sleep(10)"
   ]
  },
  {
   "cell_type": "code",
   "execution_count": 138,
   "metadata": {
    "ExecuteTime": {
     "end_time": "2021-05-23T15:37:00.306011Z",
     "start_time": "2021-05-23T15:36:58.295290Z"
    }
   },
   "outputs": [
    {
     "data": {
      "text/plain": [
       "2"
      ]
     },
     "execution_count": 138,
     "metadata": {},
     "output_type": "execute_result"
    }
   ],
   "source": [
    "myfunc(2)"
   ]
  },
  {
   "cell_type": "code",
   "execution_count": 150,
   "metadata": {
    "ExecuteTime": {
     "end_time": "2021-05-23T21:04:35.968577Z",
     "start_time": "2021-05-23T21:04:35.966393Z"
    }
   },
   "outputs": [],
   "source": [
    "import ray"
   ]
  },
  {
   "cell_type": "code",
   "execution_count": 151,
   "metadata": {
    "ExecuteTime": {
     "end_time": "2021-05-23T21:04:51.710604Z",
     "start_time": "2021-05-23T21:04:47.124954Z"
    }
   },
   "outputs": [
    {
     "name": "stderr",
     "output_type": "stream",
     "text": [
      "2021-05-23 17:04:49,663\tINFO services.py:1267 -- View the Ray dashboard at \u001b[1m\u001b[32mhttp://127.0.0.1:8265\u001b[39m\u001b[22m\n"
     ]
    },
    {
     "data": {
      "text/plain": [
       "{'node_ip_address': '192.168.1.44',\n",
       " 'raylet_ip_address': '192.168.1.44',\n",
       " 'redis_address': '192.168.1.44:6379',\n",
       " 'object_store_address': '/tmp/ray/session_2021-05-23_17-04-47_130672_93527/sockets/plasma_store',\n",
       " 'raylet_socket_name': '/tmp/ray/session_2021-05-23_17-04-47_130672_93527/sockets/raylet',\n",
       " 'webui_url': '127.0.0.1:8265',\n",
       " 'session_dir': '/tmp/ray/session_2021-05-23_17-04-47_130672_93527',\n",
       " 'metrics_export_port': 54988,\n",
       " 'node_id': '2d75f1d495dad29a8a48abb3c5ecfea8675bbe6b945c1e32b20b7a1d'}"
      ]
     },
     "execution_count": 151,
     "metadata": {},
     "output_type": "execute_result"
    }
   ],
   "source": [
    "ray.init()"
   ]
  },
  {
   "cell_type": "code",
   "execution_count": 153,
   "metadata": {
    "ExecuteTime": {
     "end_time": "2021-05-23T21:15:44.454639Z",
     "start_time": "2021-05-23T21:15:44.451893Z"
    }
   },
   "outputs": [],
   "source": [
    "@ray.remote\n",
    "def myfunc(x):\n",
    "    time.sleep(x)\n",
    "    return(x)"
   ]
  },
  {
   "cell_type": "code",
   "execution_count": 158,
   "metadata": {
    "ExecuteTime": {
     "end_time": "2021-05-23T21:17:46.576913Z",
     "start_time": "2021-05-23T21:17:46.574038Z"
    }
   },
   "outputs": [],
   "source": [
    "obj_ref = myfunc.remote(2)"
   ]
  },
  {
   "cell_type": "code",
   "execution_count": 159,
   "metadata": {
    "ExecuteTime": {
     "end_time": "2021-05-23T21:17:48.582457Z",
     "start_time": "2021-05-23T21:17:47.885696Z"
    }
   },
   "outputs": [
    {
     "data": {
      "text/plain": [
       "2"
      ]
     },
     "execution_count": 159,
     "metadata": {},
     "output_type": "execute_result"
    }
   ],
   "source": [
    "ray.get(obj_ref)"
   ]
  },
  {
   "cell_type": "code",
   "execution_count": 162,
   "metadata": {
    "ExecuteTime": {
     "end_time": "2021-05-23T21:18:31.995335Z",
     "start_time": "2021-05-23T21:18:31.992975Z"
    }
   },
   "outputs": [],
   "source": [
    "@ray.remote\n",
    "def slow_function():\n",
    "    time.sleep(30)\n",
    "    return 1"
   ]
  },
  {
   "cell_type": "code",
   "execution_count": 163,
   "metadata": {
    "ExecuteTime": {
     "end_time": "2021-05-23T21:18:51.758632Z",
     "start_time": "2021-05-23T21:18:51.754261Z"
    }
   },
   "outputs": [],
   "source": [
    "# Invocations of Ray remote functions happen in parallel.\n",
    "# All computation is performed in the background, driven by Ray's internal event loop.\n",
    "for _ in range(4):\n",
    "    # This doesn't block.\n",
    "    slow_function.remote()"
   ]
  },
  {
   "cell_type": "code",
   "execution_count": null,
   "metadata": {},
   "outputs": [],
   "source": [
    "from mpi4py import MPI"
   ]
  },
  {
   "cell_type": "code",
   "execution_count": null,
   "metadata": {},
   "outputs": [],
   "source": [
    "import sys\n",
    "from mpi4py import MPI\n",
    "\n",
    "size = MPI.COMM_WORLD.Get_size()\n",
    "rank = MPI.COMM_WORLD.Get_rank()\n",
    "name = MPI.Get_processor_name()\n",
    "\n",
    "print(\"Hello, World! I am process \",rank,\" of \",size,\" on \",name)"
   ]
  },
  {
   "cell_type": "code",
   "execution_count": null,
   "metadata": {},
   "outputs": [],
   "source": []
  },
  {
   "cell_type": "code",
   "execution_count": null,
   "metadata": {},
   "outputs": [],
   "source": []
  },
  {
   "cell_type": "code",
   "execution_count": null,
   "metadata": {},
   "outputs": [],
   "source": []
  },
  {
   "cell_type": "code",
   "execution_count": null,
   "metadata": {},
   "outputs": [],
   "source": []
  },
  {
   "cell_type": "code",
   "execution_count": null,
   "metadata": {},
   "outputs": [],
   "source": []
  },
  {
   "cell_type": "code",
   "execution_count": null,
   "metadata": {},
   "outputs": [],
   "source": [
    "years = [2007, 2011]\n",
    "months = [1, 8]\n",
    "hours = [11, 17, 23]\n",
    "altitudes = [500, 1000, 1500]\n",
    "location = (42.82, -75.54)\n",
    "runtime = -120"
   ]
  },
  {
   "cell_type": "code",
   "execution_count": 51,
   "metadata": {
    "ExecuteTime": {
     "end_time": "2021-05-21T21:14:12.819104Z",
     "start_time": "2021-05-21T21:14:12.807238Z"
    },
    "scrolled": false
   },
   "outputs": [
    {
     "ename": "ValueError",
     "evalue": "invalid literal for int() with base 10: 'l'",
     "output_type": "error",
     "traceback": [
      "\u001b[0;31m---------------------------------------------------------------------------\u001b[0m",
      "\u001b[0;31mValueError\u001b[0m                                Traceback (most recent call last)",
      "\u001b[0;32m<ipython-input-51-8f1ca24e1b53>\u001b[0m in \u001b[0;36m<module>\u001b[0;34m\u001b[0m\n\u001b[0;32m----> 1\u001b[0;31m pysplit.generate_bulktraj(\n\u001b[0m\u001b[1;32m      2\u001b[0m     \u001b[0mbasename\u001b[0m \u001b[0;34m=\u001b[0m \u001b[0;34m'colgate'\u001b[0m\u001b[0;34m,\u001b[0m\u001b[0;34m\u001b[0m\u001b[0;34m\u001b[0m\u001b[0m\n\u001b[1;32m      3\u001b[0m     \u001b[0mhysplit_working\u001b[0m\u001b[0;34m=\u001b[0m\u001b[0;34mr'/Users/jessssli/Documents/04 Sub-Annual Model of Wildfire PM/test27/working/'\u001b[0m\u001b[0;34m,\u001b[0m\u001b[0;34m\u001b[0m\u001b[0;34m\u001b[0m\u001b[0m\n\u001b[1;32m      4\u001b[0m     \u001b[0moutput_dir\u001b[0m\u001b[0;34m=\u001b[0m\u001b[0;34mr'/Users/jessssli/Documents/04 Sub-Annual Model of Wildfire PM/test27/out/'\u001b[0m\u001b[0;34m,\u001b[0m\u001b[0;34m\u001b[0m\u001b[0;34m\u001b[0m\u001b[0m\n\u001b[1;32m      5\u001b[0m     \u001b[0mmeteo_dir\u001b[0m\u001b[0;34m=\u001b[0m\u001b[0;34mr'/Users/jessssli/BurkeLab Dropbox/Data/meteorology/gdas1/'\u001b[0m\u001b[0;34m,\u001b[0m\u001b[0;34m\u001b[0m\u001b[0;34m\u001b[0m\u001b[0m\n",
      "\u001b[0;32m~/opt/anaconda3/lib/python3.8/site-packages/pysplit/trajectory_generator.py\u001b[0m in \u001b[0;36mgenerate_bulktraj\u001b[0;34m(basename, hysplit_working, output_dir, meteo_dir, years, months, hours, altitudes, coordinates, run, meteoyr_2digits, outputyr_2digits, monthslice, meteo_bookends, get_reverse, get_clipped, hysplit)\u001b[0m\n\u001b[1;32m    138\u001b[0m \u001b[0;34m\u001b[0m\u001b[0m\n\u001b[1;32m    139\u001b[0m             \u001b[0;31m# Assemble list of meteorology files\u001b[0m\u001b[0;34m\u001b[0m\u001b[0;34m\u001b[0m\u001b[0;34m\u001b[0m\u001b[0m\n\u001b[0;32m--> 140\u001b[0;31m             meteofiles = _meteofinder(meteo_dir, meteo_bookends, m, y,\n\u001b[0m\u001b[1;32m    141\u001b[0m                                       mon_dict, meteoyearfunc)\n\u001b[1;32m    142\u001b[0m \u001b[0;34m\u001b[0m\u001b[0m\n",
      "\u001b[0;32m~/opt/anaconda3/lib/python3.8/site-packages/pysplit/trajectory_generator.py\u001b[0m in \u001b[0;36m_meteofinder\u001b[0;34m(meteo_dir, meteo_bookends, mon, year, mon_dict, meteoyearfunc)\u001b[0m\n\u001b[1;32m    393\u001b[0m                 \u001b[0mmeteofiles\u001b[0m\u001b[0;34m.\u001b[0m\u001b[0mappend\u001b[0m\u001b[0;34m(\u001b[0m\u001b[0meach_file\u001b[0m\u001b[0;34m)\u001b[0m\u001b[0;34m\u001b[0m\u001b[0;34m\u001b[0m\u001b[0m\n\u001b[1;32m    394\u001b[0m             \u001b[0;32melif\u001b[0m \u001b[0mfnmatch\u001b[0m\u001b[0;34m.\u001b[0m\u001b[0mfnmatch\u001b[0m\u001b[0;34m(\u001b[0m\u001b[0meach_file\u001b[0m\u001b[0;34m,\u001b[0m \u001b[0mprv\u001b[0m\u001b[0;34m)\u001b[0m\u001b[0;34m:\u001b[0m\u001b[0;34m\u001b[0m\u001b[0;34m\u001b[0m\u001b[0m\n\u001b[0;32m--> 395\u001b[0;31m                 \u001b[0;32mif\u001b[0m \u001b[0mint\u001b[0m\u001b[0;34m(\u001b[0m\u001b[0meach_file\u001b[0m\u001b[0;34m[\u001b[0m\u001b[0mfile_number\u001b[0m\u001b[0;34m]\u001b[0m\u001b[0;34m)\u001b[0m \u001b[0;32min\u001b[0m \u001b[0mmeteo_bookends\u001b[0m\u001b[0;34m[\u001b[0m\u001b[0;36m0\u001b[0m\u001b[0;34m]\u001b[0m\u001b[0;34m:\u001b[0m\u001b[0;34m\u001b[0m\u001b[0;34m\u001b[0m\u001b[0m\n\u001b[0m\u001b[1;32m    396\u001b[0m                     \u001b[0mmeteofiles\u001b[0m\u001b[0;34m.\u001b[0m\u001b[0mappend\u001b[0m\u001b[0;34m(\u001b[0m\u001b[0meach_file\u001b[0m\u001b[0;34m)\u001b[0m\u001b[0;34m\u001b[0m\u001b[0;34m\u001b[0m\u001b[0m\n\u001b[1;32m    397\u001b[0m             \u001b[0;32melif\u001b[0m \u001b[0mfnmatch\u001b[0m\u001b[0;34m.\u001b[0m\u001b[0mfnmatch\u001b[0m\u001b[0;34m(\u001b[0m\u001b[0meach_file\u001b[0m\u001b[0;34m,\u001b[0m \u001b[0mnxt\u001b[0m\u001b[0;34m)\u001b[0m\u001b[0;34m:\u001b[0m\u001b[0;34m\u001b[0m\u001b[0;34m\u001b[0m\u001b[0m\n",
      "\u001b[0;31mValueError\u001b[0m: invalid literal for int() with base 10: 'l'"
     ]
    }
   ],
   "source": [
    "pysplit.generate_bulktraj(\n",
    "    basename = 'colgate', \n",
    "    hysplit_working=r'/Users/jessssli/Documents/04 Sub-Annual Model of Wildfire PM/test27/working/',\n",
    "    output_dir=r'/Users/jessssli/Documents/04 Sub-Annual Model of Wildfire PM/test27/out/',\n",
    "    meteo_dir=r'/Users/jessssli/BurkeLab Dropbox/Data/meteorology/gdas1/',\n",
    "    years = [2017, 2020],\n",
    "    months = [1, 8], \n",
    "    hours = [11, 17, 23], \n",
    "    altitudes = [500, 1000, 1500], \n",
    "    coordinates = (42.82, -75.54), \n",
    "    run = -120,\n",
    "    monthslice=slice(0, 32, 2), \n",
    "    meteo_bookends=([4, 5], [1]),\n",
    "    get_reverse=False,\n",
    "    get_clipped=False)"
   ]
  },
  {
   "cell_type": "code",
   "execution_count": null,
   "metadata": {},
   "outputs": [],
   "source": [
    "working_dir = r'/Users/jessssli/Documents/04 Sub-Annual Model of Wildfire PM/HYSPLIT Speed Test/working/working_1/' #r'/Users/jessssli/hysplit/working/'\n",
    "storage_dir = r'/Users/jessssli/Documents/04 Sub-Annual Model of Wildfire PM/HYSPLIT Speed Test/trajectories/colgate3/'\n",
    "meteo_dir = r'/Users/jessssli/Documents/04 Sub-Annual Model of Wildfire PM/HYSPLIT Speed Test/met/gdas1/'\n",
    "hysplit = r'/Users/jessssli/hysplit/exec/hyts_std'"
   ]
  },
  {
   "cell_type": "code",
   "execution_count": 21,
   "metadata": {
    "ExecuteTime": {
     "end_time": "2021-05-21T18:41:22.840572Z",
     "start_time": "2021-05-21T18:41:22.836715Z"
    }
   },
   "outputs": [
    {
     "data": {
      "text/plain": [
       "[1, 3, 5, 7, 9]"
      ]
     },
     "execution_count": 21,
     "metadata": {},
     "output_type": "execute_result"
    }
   ],
   "source": [
    "[i for i in range(10)][slice(1,10,2)]"
   ]
  },
  {
   "cell_type": "code",
   "execution_count": 34,
   "metadata": {
    "ExecuteTime": {
     "end_time": "2021-05-21T18:46:36.754528Z",
     "start_time": "2021-05-21T18:46:36.750652Z"
    }
   },
   "outputs": [
    {
     "data": {
      "text/plain": [
       "[3]"
      ]
     },
     "execution_count": 34,
     "metadata": {},
     "output_type": "execute_result"
    }
   ],
   "source": [
    "[i for i in range(1,32)][slice(2, 3, 1)]"
   ]
  },
  {
   "cell_type": "code",
   "execution_count": 39,
   "metadata": {
    "ExecuteTime": {
     "end_time": "2021-05-21T18:49:09.431779Z",
     "start_time": "2021-05-21T18:49:09.428196Z"
    }
   },
   "outputs": [
    {
     "data": {
      "text/plain": [
       "slice(1, 2, 1)"
      ]
     },
     "execution_count": 39,
     "metadata": {},
     "output_type": "execute_result"
    }
   ],
   "source": [
    "(lambda x: slice(x - 1, x, 1))(2)"
   ]
  },
  {
   "cell_type": "code",
   "execution_count": null,
   "metadata": {},
   "outputs": [],
   "source": []
  },
  {
   "cell_type": "code",
   "execution_count": null,
   "metadata": {},
   "outputs": [],
   "source": []
  },
  {
   "cell_type": "code",
   "execution_count": 75,
   "metadata": {
    "ExecuteTime": {
     "end_time": "2021-05-21T21:28:14.605848Z",
     "start_time": "2021-05-21T21:28:14.603388Z"
    }
   },
   "outputs": [],
   "source": [
    "working_dir = r'/Users/jessssli/Documents/04 Sub-Annual Model of Wildfire PM/test27/working/'\n",
    "storage_dir = r'/Users/jessssli/Documents/04 Sub-Annual Model of Wildfire PM/test28/out/'\n",
    "meteo_dir = r'/Users/jessssli/BurkeLab Dropbox/Data/meteorology/gdas1/'\n",
    "hysplit = r'/Users/jessssli/hysplit/exec/hyts_std'"
   ]
  },
  {
   "cell_type": "code",
   "execution_count": 76,
   "metadata": {
    "ExecuteTime": {
     "end_time": "2021-05-21T21:28:15.024417Z",
     "start_time": "2021-05-21T21:28:15.022118Z"
    }
   },
   "outputs": [],
   "source": [
    "basename = 'pytraj'"
   ]
  },
  {
   "cell_type": "code",
   "execution_count": 77,
   "metadata": {
    "ExecuteTime": {
     "end_time": "2021-05-21T21:28:15.526469Z",
     "start_time": "2021-05-21T21:28:15.523455Z"
    }
   },
   "outputs": [],
   "source": [
    "years = [2020]\n",
    "months = [1, 8]\n",
    "hours = [11, 17, 23]\n",
    "altitudes = [500, 1000, 1500]\n",
    "location = (42.82, -75.54)\n",
    "runtime = -120"
   ]
  },
  {
   "cell_type": "code",
   "execution_count": 78,
   "metadata": {
    "ExecuteTime": {
     "end_time": "2021-05-21T21:34:09.720216Z",
     "start_time": "2021-05-21T21:28:16.020309Z"
    }
   },
   "outputs": [
    {
     "ename": "TypeError",
     "evalue": "'module' object is not callable",
     "output_type": "error",
     "traceback": [
      "\u001b[0;31m---------------------------------------------------------------------------\u001b[0m",
      "\u001b[0;31mTypeError\u001b[0m                                 Traceback (most recent call last)",
      "\u001b[0;32m<ipython-input-78-80a8763a7616>\u001b[0m in \u001b[0;36m<module>\u001b[0;34m\u001b[0m\n\u001b[1;32m      3\u001b[0m                           \u001b[0mmonthslice\u001b[0m\u001b[0;34m=\u001b[0m\u001b[0mslice\u001b[0m\u001b[0;34m(\u001b[0m\u001b[0;36m0\u001b[0m\u001b[0;34m,\u001b[0m \u001b[0;36m32\u001b[0m\u001b[0;34m,\u001b[0m \u001b[0;36m2\u001b[0m\u001b[0;34m)\u001b[0m\u001b[0;34m,\u001b[0m \u001b[0mget_reverse\u001b[0m\u001b[0;34m=\u001b[0m\u001b[0;32mTrue\u001b[0m\u001b[0;34m,\u001b[0m\u001b[0;34m\u001b[0m\u001b[0;34m\u001b[0m\u001b[0m\n\u001b[1;32m      4\u001b[0m                           get_clipped=True, hysplit = hysplit)\n\u001b[0;32m----> 5\u001b[0;31m \u001b[0mos\u001b[0m\u001b[0;34m(\u001b[0m\u001b[0;34m'say done!'\u001b[0m\u001b[0;34m)\u001b[0m\u001b[0;34m\u001b[0m\u001b[0;34m\u001b[0m\u001b[0m\n\u001b[0m",
      "\u001b[0;31mTypeError\u001b[0m: 'module' object is not callable"
     ]
    }
   ],
   "source": [
    "pysplit.generate_bulktraj(basename, working_dir, storage_dir, meteo_dir,\n",
    "                          years, months, hours, altitudes, location, runtime,\n",
    "                          monthslice=slice(0, 32, 2), get_reverse=True,\n",
    "                          get_clipped=True, hysplit = hysplit)\n",
    "os.system('say done!')"
   ]
  },
  {
   "cell_type": "code",
   "execution_count": null,
   "metadata": {},
   "outputs": [],
   "source": []
  },
  {
   "cell_type": "markdown",
   "metadata": {},
   "source": [
    "# Parallelize PySPLIT  \n",
    "Written by Jessica  \n",
    "Last edited April 2021"
   ]
  },
  {
   "cell_type": "markdown",
   "metadata": {},
   "source": [
    "Objective: given NOAA HMS HYSPLIT points, generate HYSPLIT forward trajectories efficiently.\n",
    "1. Download and delete meteorology data via FTP periodically.\n",
    "2. Create temporary working directories for each core running in parallel. Save trajectories to one output directory. Delete working directories when done generating trajectories.\n",
    "3. Feed irregular parameters to HYSPLIT configuration."
   ]
  },
  {
   "cell_type": "code",
   "execution_count": 4,
   "metadata": {
    "ExecuteTime": {
     "end_time": "2021-04-29T17:40:12.269964Z",
     "start_time": "2021-04-29T17:40:12.267566Z"
    }
   },
   "outputs": [],
   "source": [
    "import os"
   ]
  },
  {
   "cell_type": "code",
   "execution_count": 11,
   "metadata": {
    "ExecuteTime": {
     "end_time": "2021-04-29T17:41:59.985224Z",
     "start_time": "2021-04-29T17:41:59.930067Z"
    }
   },
   "outputs": [],
   "source": [
    "import pysplit\n",
    "from joblib import Parallel, delayed\n",
    "import multiprocessing"
   ]
  },
  {
   "cell_type": "code",
   "execution_count": null,
   "metadata": {},
   "outputs": [],
   "source": [
    "# ATTEMPT AT PARALLELIZING BASIC EXAMPLE ABOVE"
   ]
  },
  {
   "cell_type": "code",
   "execution_count": null,
   "metadata": {},
   "outputs": [],
   "source": [
    "# for each year\n",
    "# specify a unique working directory\n",
    "# specify the same storage and meteo directories, basename, months, hours, alts, locs, and runtimes for all years\n",
    "# and generate trajectories in bulk given the same params for all years and the different year and working_dir vals"
   ]
  },
  {
   "cell_type": "code",
   "execution_count": 12,
   "metadata": {
    "ExecuteTime": {
     "end_time": "2021-04-23T19:15:48.351344Z",
     "start_time": "2021-04-23T19:15:48.346465Z"
    }
   },
   "outputs": [],
   "source": [
    "def myfunc(years, \n",
    "#            working_dir = 0, \n",
    "           basename = 'colgate', \n",
    "           storage_dir = r'/Users/jessssli/Documents/04 Sub-Annual Model of Wildfire PM/HYSPLIT Speed Test/trajectories/colgate2/',\n",
    "           meteo_dir = r'/Users/jessssli/Documents/04 Sub-Annual Model of Wildfire PM/HYSPLIT Speed Test/met/gdas1/', \n",
    "           months = [1, 8], \n",
    "           hours = [11, 17, 23], \n",
    "           altitudes = [500, 1000, 1500], \n",
    "           location = (42.82, -75.54), \n",
    "           runtime = -120, \n",
    "           monthslice = slice(0, 32, 2), \n",
    "           get_reverse = True, \n",
    "           get_clipped = True, \n",
    "           hysplit = r'/Users/jessssli/hysplit/exec/hyts_std'):\n",
    "    working_dir = r'/Users/jessssli/Documents/04 Sub-Annual Model of Wildfire PM/HYSPLIT Speed Test/working/working_' + str(years)\n",
    "    pysplit.generate_bulktraj(basename = basename, \n",
    "                              hysplit_working = working_dir, \n",
    "                              output_dir = storage_dir, \n",
    "                              meteo_dir = meteo_dir, \n",
    "                              years = [years], \n",
    "                              months = months, \n",
    "                              hours = hours, \n",
    "                              altitudes = altitudes, \n",
    "                              coordinates = location, \n",
    "                              run = runtime, \n",
    "                              monthslice = monthslice, \n",
    "                              get_reverse = get_reverse, \n",
    "                              get_clipped = get_clipped,\n",
    "                              hysplit = hysplit)\n"
   ]
  },
  {
   "cell_type": "code",
   "execution_count": 1,
   "metadata": {
    "ExecuteTime": {
     "end_time": "2021-04-23T21:38:48.781366Z",
     "start_time": "2021-04-23T21:38:47.275658Z"
    }
   },
   "outputs": [],
   "source": [
    "import pysplit\n",
    "from joblib import Parallel, delayed\n",
    "import multiprocessing"
   ]
  },
  {
   "cell_type": "code",
   "execution_count": 42,
   "metadata": {
    "ExecuteTime": {
     "end_time": "2021-04-23T19:40:26.138947Z",
     "start_time": "2021-04-23T19:40:26.135077Z"
    }
   },
   "outputs": [],
   "source": [
    "def myfunc(years):\n",
    "    working_dir = r'/Users/jessssli/Documents/04 Sub-Annual Model of Wildfire PM/HYSPLIT Speed Test/working/working_' + str(years)\n",
    "    pysplit.generate_bulktraj(basename = 'colgate', \n",
    "                              hysplit_working = working_dir, \n",
    "                              output_dir = r'/Users/jessssli/Documents/04 Sub-Annual Model of Wildfire PM/HYSPLIT Speed Test/trajectories/colgate2/', \n",
    "                              meteo_dir = r'/Users/jessssli/Documents/04 Sub-Annual Model of Wildfire PM/HYSPLIT Speed Test/met/gdas1/', \n",
    "                              years = [years], \n",
    "                              months = [1, 8], \n",
    "                              hours = [11, 17, 23], \n",
    "                              altitudes = [500, 1000, 1500], \n",
    "                              coordinates = (42.82, -75.54), \n",
    "                              run = -120, \n",
    "                              monthslice = slice(0, 32, 2), \n",
    "                              get_reverse = True, \n",
    "                              get_clipped = True,\n",
    "                              hysplit = r'/Users/jessssli/hysplit/exec/hyts_std')\n"
   ]
  },
  {
   "cell_type": "code",
   "execution_count": 43,
   "metadata": {
    "ExecuteTime": {
     "end_time": "2021-04-23T19:40:26.705704Z",
     "start_time": "2021-04-23T19:40:26.703439Z"
    }
   },
   "outputs": [],
   "source": [
    "num_cores = multiprocessing.cpu_count()"
   ]
  },
  {
   "cell_type": "code",
   "execution_count": 44,
   "metadata": {
    "ExecuteTime": {
     "end_time": "2021-04-23T19:40:27.338010Z",
     "start_time": "2021-04-23T19:40:27.335566Z"
    }
   },
   "outputs": [],
   "source": [
    "years = [2007, 2011]"
   ]
  },
  {
   "cell_type": "code",
   "execution_count": 45,
   "metadata": {
    "ExecuteTime": {
     "end_time": "2021-04-23T19:43:42.156040Z",
     "start_time": "2021-04-23T19:40:28.091721Z"
    }
   },
   "outputs": [
    {
     "data": {
      "text/plain": [
       "[None, None]"
      ]
     },
     "execution_count": 45,
     "metadata": {},
     "output_type": "execute_result"
    }
   ],
   "source": [
    "Parallel(n_jobs = num_cores)(delayed(myfunc)(yr) for yr in years)"
   ]
  },
  {
   "cell_type": "code",
   "execution_count": 10,
   "metadata": {
    "ExecuteTime": {
     "end_time": "2021-04-29T17:41:00.909699Z",
     "start_time": "2021-04-29T17:41:00.181622Z"
    }
   },
   "outputs": [
    {
     "data": {
      "text/plain": [
       "0"
      ]
     },
     "execution_count": 10,
     "metadata": {},
     "output_type": "execute_result"
    }
   ],
   "source": [
    "os.system('say done')"
   ]
  },
  {
   "cell_type": "markdown",
   "metadata": {},
   "source": [
    "# Feed irregular initialization values"
   ]
  },
  {
   "cell_type": "code",
   "execution_count": null,
   "metadata": {},
   "outputs": [],
   "source": [
    "pysplit.generate_bulktraj(basename = 'change_later',\n",
    "                          hysplit_working = r'/Users/jessssli/Documents/GitHub/wildfire_home_leakage/work/get_HYSPLIT_height/new_working/',\n",
    "                          output_dir = r'/Users/jessssli/Documents/GitHub/wildfire_home_leakage/work/get_HYSPLIT_height/new_output/',\n",
    "                          meteo_dir = r'/Users/jessssli/Documents/04 Sub-Annual Model of Wildfire PM/HYSPLIT Speed Test/met/gdas1/',\n",
    "                          years = 2007,\n",
    "                          months = 8,\n",
    "                          hours = 3,\n",
    "                          altitudes = 1000,\n",
    "                          coordinates = (42.82, -75.54),\n",
    "                          run = 72,\n",
    "                          meteoyr_2digits = True,\n",
    "                          outputyr_2digits = False,\n",
    "                          monthslice=slice(0, 32, 1),\n",
    "                          meteo_bookends=([4, 5], [1]),\n",
    "                          get_reverse = False,\n",
    "                          get_clipped = False,\n",
    "                          hysplit='C:\\\\hysplit4\\\\exec\\\\hyts_std',\n",
    "                         )"
   ]
  },
  {
   "cell_type": "code",
   "execution_count": 15,
   "metadata": {
    "ExecuteTime": {
     "end_time": "2021-04-29T18:35:51.886284Z",
     "start_time": "2021-04-29T18:35:51.863864Z"
    }
   },
   "outputs": [
    {
     "ename": "TypeError",
     "evalue": "unsupported operand type(s) for +: 'slice' and 'int'",
     "output_type": "error",
     "traceback": [
      "\u001b[0;31m---------------------------------------------------------------------------\u001b[0m",
      "\u001b[0;31mTypeError\u001b[0m                                 Traceback (most recent call last)",
      "\u001b[0;32m<ipython-input-15-fd33f57c9405>\u001b[0m in \u001b[0;36m<module>\u001b[0;34m\u001b[0m\n\u001b[0;32m----> 1\u001b[0;31m \u001b[0mslice\u001b[0m\u001b[0;34m(\u001b[0m\u001b[0;36m0\u001b[0m\u001b[0;34m,\u001b[0m \u001b[0;36m32\u001b[0m\u001b[0;34m,\u001b[0m \u001b[0;36m1\u001b[0m\u001b[0;34m)\u001b[0m\u001b[0;34m+\u001b[0m\u001b[0;36m1\u001b[0m\u001b[0;34m\u001b[0m\u001b[0;34m\u001b[0m\u001b[0m\n\u001b[0m",
      "\u001b[0;31mTypeError\u001b[0m: unsupported operand type(s) for +: 'slice' and 'int'"
     ]
    }
   ],
   "source": [
    "slice(0, 32, 1)+1"
   ]
  },
  {
   "cell_type": "code",
   "execution_count": null,
   "metadata": {},
   "outputs": [],
   "source": [
    "pysplit.trajectory_generator"
   ]
  },
  {
   "cell_type": "code",
   "execution_count": 20,
   "metadata": {
    "ExecuteTime": {
     "end_time": "2021-04-23T19:27:07.532249Z",
     "start_time": "2021-04-23T19:27:07.529780Z"
    }
   },
   "outputs": [],
   "source": [
    "working_dir = r'/Users/jessssli/Documents/04 Sub-Annual Model of Wildfire PM/HYSPLIT Speed Test/working/working_1/' #r'/Users/jessssli/hysplit/working/'\n",
    "storage_dir = r'/Users/jessssli/Documents/04 Sub-Annual Model of Wildfire PM/HYSPLIT Speed Test/trajectories/colgate3/'\n",
    "meteo_dir = r'/Users/jessssli/Documents/04 Sub-Annual Model of Wildfire PM/HYSPLIT Speed Test/met/gdas1/'\n",
    "hysplit = r'/Users/jessssli/hysplit/exec/hyts_std'"
   ]
  },
  {
   "cell_type": "code",
   "execution_count": 21,
   "metadata": {
    "ExecuteTime": {
     "end_time": "2021-04-23T19:27:08.171123Z",
     "start_time": "2021-04-23T19:27:08.168908Z"
    }
   },
   "outputs": [],
   "source": [
    "basename = 'colgate'"
   ]
  },
  {
   "cell_type": "code",
   "execution_count": 22,
   "metadata": {
    "ExecuteTime": {
     "end_time": "2021-04-23T19:27:09.050003Z",
     "start_time": "2021-04-23T19:27:09.047029Z"
    }
   },
   "outputs": [],
   "source": [
    "years = [2007, 2011]\n",
    "months = [1, 8]\n",
    "hours = [11, 17, 23]\n",
    "altitudes = [500, 1000, 1500]\n",
    "location = (42.82, -75.54)\n",
    "runtime = -120"
   ]
  },
  {
   "cell_type": "code",
   "execution_count": 24,
   "metadata": {
    "ExecuteTime": {
     "end_time": "2021-04-23T19:34:27.002598Z",
     "start_time": "2021-04-23T19:28:33.688454Z"
    }
   },
   "outputs": [],
   "source": [
    "pysplit.generate_bulktraj(basename, working_dir, storage_dir, meteo_dir, \n",
    "                          years, months, hours, altitudes, location, runtime, \n",
    "                          monthslice = slice(0, 32, 2), get_reverse = True, get_clipped = True,\n",
    "                          hysplit = hysplit)"
   ]
  },
  {
   "cell_type": "code",
   "execution_count": 13,
   "metadata": {
    "ExecuteTime": {
     "end_time": "2021-04-29T18:21:09.908218Z",
     "start_time": "2021-04-29T18:21:09.905389Z"
    }
   },
   "outputs": [
    {
     "data": {
      "text/plain": [
       "'/Users/jessssli/Documents/GitHub/wildfire_home_leakage/work/get_HYSPLIT_height/myfolder'"
      ]
     },
     "execution_count": 13,
     "metadata": {},
     "output_type": "execute_result"
    }
   ],
   "source": [
    "os.getcwd() + '/myfolder'"
   ]
  },
  {
   "cell_type": "code",
   "execution_count": 17,
   "metadata": {
    "ExecuteTime": {
     "end_time": "2021-05-03T17:15:04.167025Z",
     "start_time": "2021-05-03T17:15:04.164871Z"
    }
   },
   "outputs": [],
   "source": [
    "import numpy as np"
   ]
  },
  {
   "cell_type": "code",
   "execution_count": 20,
   "metadata": {
    "ExecuteTime": {
     "end_time": "2021-05-03T17:15:39.237476Z",
     "start_time": "2021-05-03T17:15:39.234103Z"
    }
   },
   "outputs": [
    {
     "data": {
      "text/plain": [
       "array([1])"
      ]
     },
     "execution_count": 20,
     "metadata": {},
     "output_type": "execute_result"
    }
   ],
   "source": [
    "np.array([i for i in range(100)][slice(0, 1, 1)]) + 1"
   ]
  },
  {
   "cell_type": "code",
   "execution_count": null,
   "metadata": {},
   "outputs": [],
   "source": []
  },
  {
   "cell_type": "code",
   "execution_count": null,
   "metadata": {},
   "outputs": [],
   "source": []
  },
  {
   "cell_type": "code",
   "execution_count": null,
   "metadata": {},
   "outputs": [],
   "source": []
  },
  {
   "cell_type": "code",
   "execution_count": 14,
   "metadata": {
    "ExecuteTime": {
     "end_time": "2021-05-08T03:58:20.381575Z",
     "start_time": "2021-05-08T03:58:20.379309Z"
    }
   },
   "outputs": [],
   "source": [
    "import numpy as np\n",
    "import pandas"
   ]
  },
  {
   "cell_type": "code",
   "execution_count": 4,
   "metadata": {
    "ExecuteTime": {
     "end_time": "2021-05-08T03:38:45.648390Z",
     "start_time": "2021-05-08T03:38:45.644282Z"
    }
   },
   "outputs": [],
   "source": [
    "import rpy2.robjects as robjects\n",
    "from rpy2.robjects import pandas2ri"
   ]
  },
  {
   "cell_type": "code",
   "execution_count": 6,
   "metadata": {
    "ExecuteTime": {
     "end_time": "2021-05-08T03:39:06.365481Z",
     "start_time": "2021-05-08T03:39:06.362350Z"
    }
   },
   "outputs": [],
   "source": [
    "readRDS = robjects.r['readRDS']"
   ]
  },
  {
   "cell_type": "code",
   "execution_count": 9,
   "metadata": {
    "ExecuteTime": {
     "end_time": "2021-05-08T03:49:07.276333Z",
     "start_time": "2021-05-08T03:49:00.283298Z"
    }
   },
   "outputs": [],
   "source": [
    "df = readRDS('/Users/jessssli/BurkeLab Dropbox/Data/hms_hysplit/dat_hms_hysplit.rds')\n",
    "df = pandas2ri.rpy2py_dataframe(df)"
   ]
  },
  {
   "cell_type": "code",
   "execution_count": 31,
   "metadata": {
    "ExecuteTime": {
     "end_time": "2021-05-08T04:01:37.351463Z",
     "start_time": "2021-05-08T04:01:37.337150Z"
    }
   },
   "outputs": [
    {
     "data": {
      "text/html": [
       "<div>\n",
       "<style scoped>\n",
       "    .dataframe tbody tr th:only-of-type {\n",
       "        vertical-align: middle;\n",
       "    }\n",
       "\n",
       "    .dataframe tbody tr th {\n",
       "        vertical-align: top;\n",
       "    }\n",
       "\n",
       "    .dataframe thead th {\n",
       "        text-align: right;\n",
       "    }\n",
       "</style>\n",
       "<table border=\"1\" class=\"dataframe\">\n",
       "  <thead>\n",
       "    <tr style=\"text-align: right;\">\n",
       "      <th></th>\n",
       "      <th>lon</th>\n",
       "      <th>lat</th>\n",
       "      <th>height</th>\n",
       "      <th>year</th>\n",
       "      <th>month</th>\n",
       "      <th>day</th>\n",
       "      <th>hour</th>\n",
       "      <th>minute</th>\n",
       "      <th>ymd</th>\n",
       "      <th>duration</th>\n",
       "    </tr>\n",
       "  </thead>\n",
       "  <tbody>\n",
       "    <tr>\n",
       "      <th>1</th>\n",
       "      <td>-81.130</td>\n",
       "      <td>22.839</td>\n",
       "      <td>500.0</td>\n",
       "      <td>2011.0</td>\n",
       "      <td>1.0</td>\n",
       "      <td>1.0</td>\n",
       "      <td>20.0</td>\n",
       "      <td>0.0</td>\n",
       "      <td>2011-01-01</td>\n",
       "      <td>200</td>\n",
       "    </tr>\n",
       "    <tr>\n",
       "      <th>2</th>\n",
       "      <td>-80.963</td>\n",
       "      <td>22.780</td>\n",
       "      <td>500.0</td>\n",
       "      <td>2011.0</td>\n",
       "      <td>1.0</td>\n",
       "      <td>1.0</td>\n",
       "      <td>21.0</td>\n",
       "      <td>0.0</td>\n",
       "      <td>2011-01-01</td>\n",
       "      <td>200</td>\n",
       "    </tr>\n",
       "    <tr>\n",
       "      <th>3</th>\n",
       "      <td>-82.871</td>\n",
       "      <td>22.847</td>\n",
       "      <td>500.0</td>\n",
       "      <td>2011.0</td>\n",
       "      <td>1.0</td>\n",
       "      <td>1.0</td>\n",
       "      <td>19.0</td>\n",
       "      <td>0.0</td>\n",
       "      <td>2011-01-01</td>\n",
       "      <td>400</td>\n",
       "    </tr>\n",
       "    <tr>\n",
       "      <th>4</th>\n",
       "      <td>-83.089</td>\n",
       "      <td>22.646</td>\n",
       "      <td>500.0</td>\n",
       "      <td>2011.0</td>\n",
       "      <td>1.0</td>\n",
       "      <td>1.0</td>\n",
       "      <td>19.0</td>\n",
       "      <td>0.0</td>\n",
       "      <td>2011-01-01</td>\n",
       "      <td>400</td>\n",
       "    </tr>\n",
       "    <tr>\n",
       "      <th>5</th>\n",
       "      <td>-79.212</td>\n",
       "      <td>21.576</td>\n",
       "      <td>500.0</td>\n",
       "      <td>2011.0</td>\n",
       "      <td>1.0</td>\n",
       "      <td>1.0</td>\n",
       "      <td>20.0</td>\n",
       "      <td>0.0</td>\n",
       "      <td>2011-01-01</td>\n",
       "      <td>200</td>\n",
       "    </tr>\n",
       "    <tr>\n",
       "      <th>...</th>\n",
       "      <td>...</td>\n",
       "      <td>...</td>\n",
       "      <td>...</td>\n",
       "      <td>...</td>\n",
       "      <td>...</td>\n",
       "      <td>...</td>\n",
       "      <td>...</td>\n",
       "      <td>...</td>\n",
       "      <td>...</td>\n",
       "      <td>...</td>\n",
       "    </tr>\n",
       "    <tr>\n",
       "      <th>501462</th>\n",
       "      <td>-111.716</td>\n",
       "      <td>35.468</td>\n",
       "      <td>500.0</td>\n",
       "      <td>2018.0</td>\n",
       "      <td>7.0</td>\n",
       "      <td>31.0</td>\n",
       "      <td>19.0</td>\n",
       "      <td>0.0</td>\n",
       "      <td>2018-07-31</td>\n",
       "      <td>2400</td>\n",
       "    </tr>\n",
       "    <tr>\n",
       "      <th>501463</th>\n",
       "      <td>-111.753</td>\n",
       "      <td>35.498</td>\n",
       "      <td>500.0</td>\n",
       "      <td>2018.0</td>\n",
       "      <td>7.0</td>\n",
       "      <td>31.0</td>\n",
       "      <td>19.0</td>\n",
       "      <td>0.0</td>\n",
       "      <td>2018-07-31</td>\n",
       "      <td>2400</td>\n",
       "    </tr>\n",
       "    <tr>\n",
       "      <th>501464</th>\n",
       "      <td>-111.984</td>\n",
       "      <td>36.168</td>\n",
       "      <td>500.0</td>\n",
       "      <td>2018.0</td>\n",
       "      <td>7.0</td>\n",
       "      <td>31.0</td>\n",
       "      <td>19.0</td>\n",
       "      <td>0.0</td>\n",
       "      <td>2018-07-31</td>\n",
       "      <td>2400</td>\n",
       "    </tr>\n",
       "    <tr>\n",
       "      <th>501465</th>\n",
       "      <td>-96.024</td>\n",
       "      <td>28.711</td>\n",
       "      <td>500.0</td>\n",
       "      <td>2019.0</td>\n",
       "      <td>12.0</td>\n",
       "      <td>2.0</td>\n",
       "      <td>19.0</td>\n",
       "      <td>0.0</td>\n",
       "      <td>2019-12-02</td>\n",
       "      <td>2400</td>\n",
       "    </tr>\n",
       "    <tr>\n",
       "      <th>501466</th>\n",
       "      <td>-96.012</td>\n",
       "      <td>28.714</td>\n",
       "      <td>500.0</td>\n",
       "      <td>2019.0</td>\n",
       "      <td>12.0</td>\n",
       "      <td>2.0</td>\n",
       "      <td>20.0</td>\n",
       "      <td>0.0</td>\n",
       "      <td>2019-12-02</td>\n",
       "      <td>2400</td>\n",
       "    </tr>\n",
       "  </tbody>\n",
       "</table>\n",
       "<p>501466 rows × 10 columns</p>\n",
       "</div>"
      ],
      "text/plain": [
       "            lon     lat  height    year  month   day  hour  minute  \\\n",
       "1       -81.130  22.839   500.0  2011.0    1.0   1.0  20.0     0.0   \n",
       "2       -80.963  22.780   500.0  2011.0    1.0   1.0  21.0     0.0   \n",
       "3       -82.871  22.847   500.0  2011.0    1.0   1.0  19.0     0.0   \n",
       "4       -83.089  22.646   500.0  2011.0    1.0   1.0  19.0     0.0   \n",
       "5       -79.212  21.576   500.0  2011.0    1.0   1.0  20.0     0.0   \n",
       "...         ...     ...     ...     ...    ...   ...   ...     ...   \n",
       "501462 -111.716  35.468   500.0  2018.0    7.0  31.0  19.0     0.0   \n",
       "501463 -111.753  35.498   500.0  2018.0    7.0  31.0  19.0     0.0   \n",
       "501464 -111.984  36.168   500.0  2018.0    7.0  31.0  19.0     0.0   \n",
       "501465  -96.024  28.711   500.0  2019.0   12.0   2.0  19.0     0.0   \n",
       "501466  -96.012  28.714   500.0  2019.0   12.0   2.0  20.0     0.0   \n",
       "\n",
       "               ymd  duration  \n",
       "1       2011-01-01       200  \n",
       "2       2011-01-01       200  \n",
       "3       2011-01-01       400  \n",
       "4       2011-01-01       400  \n",
       "5       2011-01-01       200  \n",
       "...            ...       ...  \n",
       "501462  2018-07-31      2400  \n",
       "501463  2018-07-31      2400  \n",
       "501464  2018-07-31      2400  \n",
       "501465  2019-12-02      2400  \n",
       "501466  2019-12-02      2400  \n",
       "\n",
       "[501466 rows x 10 columns]"
      ]
     },
     "execution_count": 31,
     "metadata": {},
     "output_type": "execute_result"
    }
   ],
   "source": [
    "df"
   ]
  },
  {
   "cell_type": "code",
   "execution_count": 39,
   "metadata": {
    "ExecuteTime": {
     "end_time": "2021-05-08T04:03:33.660299Z",
     "start_time": "2021-05-08T04:03:33.652615Z"
    }
   },
   "outputs": [
    {
     "data": {
      "text/html": [
       "<div>\n",
       "<style scoped>\n",
       "    .dataframe tbody tr th:only-of-type {\n",
       "        vertical-align: middle;\n",
       "    }\n",
       "\n",
       "    .dataframe tbody tr th {\n",
       "        vertical-align: top;\n",
       "    }\n",
       "\n",
       "    .dataframe thead th {\n",
       "        text-align: right;\n",
       "    }\n",
       "</style>\n",
       "<table border=\"1\" class=\"dataframe\">\n",
       "  <thead>\n",
       "    <tr style=\"text-align: right;\">\n",
       "      <th></th>\n",
       "      <th>height</th>\n",
       "      <th>year</th>\n",
       "    </tr>\n",
       "  </thead>\n",
       "  <tbody>\n",
       "    <tr>\n",
       "      <th>2</th>\n",
       "      <td>500.0</td>\n",
       "      <td>2011.0</td>\n",
       "    </tr>\n",
       "    <tr>\n",
       "      <th>3</th>\n",
       "      <td>500.0</td>\n",
       "      <td>2011.0</td>\n",
       "    </tr>\n",
       "  </tbody>\n",
       "</table>\n",
       "</div>"
      ],
      "text/plain": [
       "   height    year\n",
       "2   500.0  2011.0\n",
       "3   500.0  2011.0"
      ]
     },
     "execution_count": 39,
     "metadata": {},
     "output_type": "execute_result"
    }
   ],
   "source": [
    "df.iloc[1:3,2:4]"
   ]
  },
  {
   "cell_type": "code",
   "execution_count": null,
   "metadata": {
    "collapsed": true
   },
   "outputs": [],
   "source": []
  },
  {
   "cell_type": "code",
   "execution_count": 11,
   "metadata": {
    "ExecuteTime": {
     "end_time": "2021-05-08T03:54:18.704640Z",
     "start_time": "2021-05-08T03:54:17.602570Z"
    }
   },
   "outputs": [],
   "source": [
    "import pysplit"
   ]
  },
  {
   "cell_type": "code",
   "execution_count": null,
   "metadata": {},
   "outputs": [],
   "source": [
    "pysplit.generate_bulktraj(\n",
    "    basename = 'pytraj',\n",
    "    hysplit_working = r'/Users/jessssli/hysplit/exec/hyts_std/',\n",
    "    output_dir = r'/Users/jessssli/Documents/04 Sub-Annual Model of Wildfire PM/test13/',\n",
    "    meteo_dir = r'/Users/jessssli/Documents/04 Sub-Annual Model of Wildfire PM/test10/met/',\n",
    "    years = ,\n",
    "    months,\n",
    "    hours,\n",
    "    altitudes,\n",
    "    coordinates,\n",
    "    run,\n",
    "    meteoyr_2digits=True,\n",
    "    outputyr_2digits=False,\n",
    "    monthslice=slice(0, 32, 1),\n",
    "    meteo_bookends=([4, 5], [1]),\n",
    "    get_reverse=False,\n",
    "    get_clipped=False,\n",
    "    hysplit='C:\\\\hysplit4\\\\exec\\\\hyts_std',\n",
    ")"
   ]
  },
  {
   "cell_type": "code",
   "execution_count": null,
   "metadata": {},
   "outputs": [],
   "source": [
    "working_dir = r'/Users/jessssli/Documents/04 Sub-Annual Model of Wildfire PM/HYSPLIT Speed Test/working/working_1/' #r'/Users/jessssli/hysplit/working/'\n",
    "storage_dir = r'/Users/jessssli/Documents/04 Sub-Annual Model of Wildfire PM/HYSPLIT Speed Test/trajectories/colgate3/'\n",
    "meteo_dir = r'/Users/jessssli/Documents/04 Sub-Annual Model of Wildfire PM/HYSPLIT Speed Test/met/gdas1/'\n",
    "hysplit = r'/Users/jessssli/hysplit/exec/hyts_std'"
   ]
  }
 ],
 "metadata": {
  "kernelspec": {
   "display_name": "Python 3",
   "language": "python",
   "name": "python3"
  },
  "language_info": {
   "codemirror_mode": {
    "name": "ipython",
    "version": 3
   },
   "file_extension": ".py",
   "mimetype": "text/x-python",
   "name": "python",
   "nbconvert_exporter": "python",
   "pygments_lexer": "ipython3",
   "version": "3.8.5"
  },
  "toc": {
   "base_numbering": 1,
   "nav_menu": {},
   "number_sections": true,
   "sideBar": true,
   "skip_h1_title": false,
   "title_cell": "Table of Contents",
   "title_sidebar": "Contents",
   "toc_cell": false,
   "toc_position": {},
   "toc_section_display": true,
   "toc_window_display": false
  },
  "varInspector": {
   "cols": {
    "lenName": 16,
    "lenType": 16,
    "lenVar": 40
   },
   "kernels_config": {
    "python": {
     "delete_cmd_postfix": "",
     "delete_cmd_prefix": "del ",
     "library": "var_list.py",
     "varRefreshCmd": "print(var_dic_list())"
    },
    "r": {
     "delete_cmd_postfix": ") ",
     "delete_cmd_prefix": "rm(",
     "library": "var_list.r",
     "varRefreshCmd": "cat(var_dic_list()) "
    }
   },
   "types_to_exclude": [
    "module",
    "function",
    "builtin_function_or_method",
    "instance",
    "_Feature"
   ],
   "window_display": false
  }
 },
 "nbformat": 4,
 "nbformat_minor": 4
}
